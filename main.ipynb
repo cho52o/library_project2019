{
  "nbformat": 4,
  "nbformat_minor": 0,
  "metadata": {
    "colab": {
      "name": "main.ipynb",
      "provenance": [],
      "collapsed_sections": [
        "fLxFogkRjX_M",
        "En9T7OUz9llx",
        "y5tMW2v1jx7c",
        "C00XwMcG94aX",
        "GUzDsegX-ANS",
        "F8zbr8C6-HWz",
        "YDQIVOgg_Egh",
        "7jn6Z6Um_kDx",
        "wI8RIdm5ABkD",
        "61N3US15Amgt",
        "ONpaASshA97t",
        "ITj9Xj6yBLps",
        "LPaPJnPoB-ia",
        "KYF47ZvIsugL",
        "lb8x0NKFC3qn",
        "CzC6OvzBmKU0",
        "fPCK3lg8mTN5",
        "F4-cD3IOFg4e",
        "hq9IEEnUPUWi",
        "-k9FRZJLPY52"
      ],
      "toc_visible": true,
      "include_colab_link": true
    },
    "kernelspec": {
      "name": "python3",
      "display_name": "Python 3"
    }
  },
  "cells": [
    {
      "cell_type": "markdown",
      "metadata": {
        "id": "view-in-github",
        "colab_type": "text"
      },
      "source": [
        "<a href=\"https://colab.research.google.com/github/cho52o/library_project2019/blob/main/main.ipynb\" target=\"_parent\"><img src=\"https://colab.research.google.com/assets/colab-badge.svg\" alt=\"Open In Colab\"/></a>"
      ]
    },
    {
      "cell_type": "markdown",
      "metadata": {
        "id": "fLxFogkRjX_M"
      },
      "source": [
        "# 기본 패키지 불러오기"
      ]
    },
    {
      "cell_type": "code",
      "metadata": {
        "id": "98mV5ueVpjjX"
      },
      "source": [
        "import numpy as np\n",
        "import pandas as pd"
      ],
      "execution_count": null,
      "outputs": []
    },
    {
      "cell_type": "code",
      "metadata": {
        "id": "pKwK8EOd5uKF",
        "colab": {
          "base_uri": "https://localhost:8080/",
          "height": 35
        },
        "outputId": "7d46f497-e8c1-4bfc-dc35-d1dd8f86555b"
      },
      "source": [
        "from google.colab import drive\n",
        "drive.mount('/content/drive')"
      ],
      "execution_count": null,
      "outputs": [
        {
          "output_type": "stream",
          "text": [
            "Drive already mounted at /content/drive; to attempt to forcibly remount, call drive.mount(\"/content/drive\", force_remount=True).\n"
          ],
          "name": "stdout"
        }
      ]
    },
    {
      "cell_type": "code",
      "metadata": {
        "id": "9bnqoocb51_6"
      },
      "source": [
        "# 일단 import \n",
        "%matplotlib inline  \n",
        "import matplotlib\n",
        "import matplotlib as mpl  # 기본 설정 만지는 용도\n",
        "import matplotlib.pyplot as plt  # 그래프 그리는 용도\n",
        "import matplotlib.font_manager as fm  # 폰트 관련 용도\n",
        "import numpy as np, pandas as pd; np.random.seed(0)\n",
        "import seaborn as sns; sns.set(style=\"white\", color_codes=True)"
      ],
      "execution_count": null,
      "outputs": []
    },
    {
      "cell_type": "code",
      "metadata": {
        "id": "oqw0vMkd5_Sl",
        "colab": {
          "base_uri": "https://localhost:8080/",
          "height": 35
        },
        "outputId": "95529e04-9010-422b-fed6-da27d4568698"
      },
      "source": [
        "print(\"Matplotlib version\", matplotlib.__version__)\n",
        "%matplotlib inline\n",
        "%config InlineBackend.figure_format = 'retina'"
      ],
      "execution_count": null,
      "outputs": [
        {
          "output_type": "stream",
          "text": [
            "Matplotlib version 3.1.1\n"
          ],
          "name": "stdout"
        }
      ]
    },
    {
      "cell_type": "code",
      "metadata": {
        "id": "dNTJWK13YgyG"
      },
      "source": [
        "!apt-get update -qq\n",
        "!apt-get install fonts-nanum* -qq"
      ],
      "execution_count": null,
      "outputs": []
    },
    {
      "cell_type": "code",
      "metadata": {
        "id": "z15tuU1e6R-6",
        "colab": {
          "base_uri": "https://localhost:8080/",
          "height": 35
        },
        "outputId": "294f2c0c-dbf6-4df0-eb4a-0ab6fe5a1519"
      },
      "source": [
        "path = '/usr/share/fonts/truetype/nanum/NanumGothicEco.ttf'  # 설치된 나눔글꼴중 원하는 녀석의 전체 경로를 가져오자\n",
        "font_name = fm.FontProperties(fname=path, size=10).get_name()\n",
        "print(font_name)\n",
        "plt.rc('font', family=font_name)\n",
        "fm._rebuild()\n",
        "mpl.rcParams['axes.unicode_minus'] = False"
      ],
      "execution_count": null,
      "outputs": [
        {
          "output_type": "stream",
          "text": [
            "NanumGothic Eco\n"
          ],
          "name": "stdout"
        }
      ]
    },
    {
      "cell_type": "code",
      "metadata": {
        "id": "-Sfu6bdxjHd0"
      },
      "source": [
        "import matplotlib.pyplot as plt\n",
        "plt.rcParams[\"font.family\"] = 'AppleGothic'\n",
        "plt.rcParams[\"figure.figsize\"] = (14,8)"
      ],
      "execution_count": null,
      "outputs": []
    },
    {
      "cell_type": "markdown",
      "metadata": {
        "id": "En9T7OUz9llx"
      },
      "source": [
        "#지난 2018-06-01 ~ 2019-09-30 까지의 대출데이터"
      ]
    },
    {
      "cell_type": "code",
      "metadata": {
        "id": "Bccq3B79HoMQ"
      },
      "source": [
        "so = pd.read_csv('/content/drive/My Drive/소통형도서관_프로젝트/자료/대출목록.csv')\n",
        "best = pd.read_csv('/content/drive/My Drive/소통형도서관_프로젝트/자료/베스트_이용도서.csv')"
      ],
      "execution_count": null,
      "outputs": []
    },
    {
      "cell_type": "code",
      "metadata": {
        "id": "5m0ZKuezf4ml",
        "colab": {
          "base_uri": "https://localhost:8080/",
          "height": 168
        },
        "outputId": "c9feff62-903e-4a50-eb17-c4d3afc778c6"
      },
      "source": [
        "so.head(4)"
      ],
      "execution_count": null,
      "outputs": [
        {
          "output_type": "execute_result",
          "data": {
            "text/html": [
              "<div>\n",
              "<style scoped>\n",
              "    .dataframe tbody tr th:only-of-type {\n",
              "        vertical-align: middle;\n",
              "    }\n",
              "\n",
              "    .dataframe tbody tr th {\n",
              "        vertical-align: top;\n",
              "    }\n",
              "\n",
              "    .dataframe thead th {\n",
              "        text-align: right;\n",
              "    }\n",
              "</style>\n",
              "<table border=\"1\" class=\"dataframe\">\n",
              "  <thead>\n",
              "    <tr style=\"text-align: right;\">\n",
              "      <th></th>\n",
              "      <th>학과</th>\n",
              "      <th>등록번호</th>\n",
              "      <th>청구기호</th>\n",
              "      <th>서명</th>\n",
              "      <th>저자</th>\n",
              "      <th>대출일</th>\n",
              "    </tr>\n",
              "  </thead>\n",
              "  <tbody>\n",
              "    <tr>\n",
              "      <th>0</th>\n",
              "      <td>간호학과</td>\n",
              "      <td>569943</td>\n",
              "      <td>158.2 하69ㅍKㄱ</td>\n",
              "      <td>대화기술: 생각을 전하고 마음을 사로잡는 기술</td>\n",
              "      <td>하이브로 무사시</td>\n",
              "      <td>20180710</td>\n",
              "    </tr>\n",
              "    <tr>\n",
              "      <th>1</th>\n",
              "      <td>간호학과</td>\n",
              "      <td>594738</td>\n",
              "      <td>910.41 한49ㅂ 2007</td>\n",
              "      <td>바람의 딸 걸어서 지구 세바퀴 반</td>\n",
              "      <td>한비야</td>\n",
              "      <td>20180801</td>\n",
              "    </tr>\n",
              "    <tr>\n",
              "      <th>2</th>\n",
              "      <td>간호학과</td>\n",
              "      <td>587517</td>\n",
              "      <td>181.2184 맹71시</td>\n",
              "      <td>孟子論</td>\n",
              "      <td>신동준</td>\n",
              "      <td>20180601</td>\n",
              "    </tr>\n",
              "    <tr>\n",
              "      <th>3</th>\n",
              "      <td>간호학과</td>\n",
              "      <td>604495</td>\n",
              "      <td>320.1 M149pKㅅ</td>\n",
              "      <td>(가장 정직한 정치 교과서) 군주론</td>\n",
              "      <td>신재일</td>\n",
              "      <td>20180604</td>\n",
              "    </tr>\n",
              "  </tbody>\n",
              "</table>\n",
              "</div>"
            ],
            "text/plain": [
              "     학과    등록번호  ...        저자       대출일\n",
              "0  간호학과  569943  ...  하이브로 무사시  20180710\n",
              "1  간호학과  594738  ...       한비야  20180801\n",
              "2  간호학과  587517  ...       신동준  20180601\n",
              "3  간호학과  604495  ...       신재일  20180604\n",
              "\n",
              "[4 rows x 6 columns]"
            ]
          },
          "metadata": {
            "tags": []
          },
          "execution_count": 28
        }
      ]
    },
    {
      "cell_type": "markdown",
      "metadata": {
        "id": "y5tMW2v1jx7c"
      },
      "source": [
        "## 등록번호와 저자 제외"
      ]
    },
    {
      "cell_type": "code",
      "metadata": {
        "id": "nVG9Rmfk8IVk"
      },
      "source": [
        "so_1 = so.iloc[:, :]\n",
        "so_2 = so.loc[:,['학과','청구기호','서명','대출일']]"
      ],
      "execution_count": null,
      "outputs": []
    },
    {
      "cell_type": "markdown",
      "metadata": {
        "id": "C00XwMcG94aX"
      },
      "source": [
        "##공과대학 대여권수"
      ]
    },
    {
      "cell_type": "code",
      "metadata": {
        "id": "dScxbldk8MWW",
        "colab": {
          "base_uri": "https://localhost:8080/",
          "height": 35
        },
        "outputId": "b6594f06-4a25-4108-e2d3-68857de0a652"
      },
      "source": [
        "so_eg = so_2[so_2['학과'].isin(['산업경영공학과','컴퓨터공학과','정보통신공학과','멀티미디어공학전공','멀티미디어학부','멀티미디어영상전공',\n",
        "                                   '토목·건축공학부','미디어영상전공','전기전자공학과' ,'건축공학전공',\n",
        "                                   '토목환경공학전공','기계공학과','화학공학과','컴퓨터무인통신기술학과'])]\n",
        "\n",
        "#신규인'신소재공학과','스마트융합공학부'제외 , 재학생이 없을것으로 판단 '공학교육 혁신센터 제외'\n",
        "so_eg.shape"
      ],
      "execution_count": null,
      "outputs": [
        {
          "output_type": "execute_result",
          "data": {
            "text/plain": [
              "(1344, 4)"
            ]
          },
          "metadata": {
            "tags": []
          },
          "execution_count": 30
        }
      ]
    },
    {
      "cell_type": "markdown",
      "metadata": {
        "id": "GUzDsegX-ANS"
      },
      "source": [
        "##사범대학 대여권수"
      ]
    },
    {
      "cell_type": "code",
      "metadata": {
        "id": "EvWx2LFo83g4",
        "colab": {
          "base_uri": "https://localhost:8080/",
          "height": 35
        },
        "outputId": "3ae7df92-2b8c-426c-fa15-2130ee51229c"
      },
      "source": [
        "so_edu = so_2[so_2['학과'].isin(['국어교육과','영어교육과','교육학과','역사교육과','미술교육과','수학교육과'])]\n",
        "#교육연수원, 교직부 제외\n",
        "so_edu.shape"
      ],
      "execution_count": null,
      "outputs": [
        {
          "output_type": "execute_result",
          "data": {
            "text/plain": [
              "(2976, 4)"
            ]
          },
          "metadata": {
            "tags": []
          },
          "execution_count": 31
        }
      ]
    },
    {
      "cell_type": "markdown",
      "metadata": {
        "id": "F8zbr8C6-HWz"
      },
      "source": [
        "##문과대학 대여권수"
      ]
    },
    {
      "cell_type": "code",
      "metadata": {
        "id": "_GQAmKxN-EUS",
        "colab": {
          "base_uri": "https://localhost:8080/",
          "height": 35
        },
        "outputId": "42ebe54c-9a18-4df7-e20e-24ee69a4bda2"
      },
      "source": [
        "so_la =  so_2[so_2['학과'].isin(['국어국문·창작학과','영어영문학과','외국어문학부','일어일문학전공','프랑스어문학전공',\n",
        "                                    '문헌정보학과','사학과','기독교학과','인문학부 철학상담학전공','일본·프랑스어문학과'])]\n",
        "so_la.shape"
      ],
      "execution_count": null,
      "outputs": [
        {
          "output_type": "execute_result",
          "data": {
            "text/plain": [
              "(4758, 4)"
            ]
          },
          "metadata": {
            "tags": []
          },
          "execution_count": 32
        }
      ]
    },
    {
      "cell_type": "markdown",
      "metadata": {
        "id": "YDQIVOgg_Egh"
      },
      "source": [
        "##경상대학 대여권수"
      ]
    },
    {
      "cell_type": "code",
      "metadata": {
        "id": "IqN33mf3-JFG",
        "colab": {
          "base_uri": "https://localhost:8080/",
          "height": 35
        },
        "outputId": "725e2e6e-00ac-48aa-ce95-e0bdcb61788f"
      },
      "source": [
        "so_ec =  so_2[so_2['학과'].isin(['경영학과','회계학과','무역학과','경제학부','경제학전공',\n",
        "                                    '중국경제통상학전공','컨벤션호텔경영학과','비즈니스통계학과'])]\n",
        "#방촌국제화 훈련단 제외\n",
        "so_ec.shape"
      ],
      "execution_count": null,
      "outputs": [
        {
          "output_type": "execute_result",
          "data": {
            "text/plain": [
              "(2395, 4)"
            ]
          },
          "metadata": {
            "tags": []
          },
          "execution_count": 33
        }
      ]
    },
    {
      "cell_type": "markdown",
      "metadata": {
        "id": "7jn6Z6Um_kDx"
      },
      "source": [
        "##법정대학 대여권수"
      ]
    },
    {
      "cell_type": "code",
      "metadata": {
        "id": "0mYyT4RX_iIc",
        "colab": {
          "base_uri": "https://localhost:8080/",
          "height": 35
        },
        "outputId": "6e62fee1-d43d-45f1-e11c-ca5871db04e8"
      },
      "source": [
        "so_ss =  so_2[so_2['학과'].isin(['법학부','행정·경찰학부' '행정학전공','경찰학전공 모집전공','정치·언론학과' ,'사회복지학과','아동복지학과','도시부동산학과'])]\n",
        "so_ss.shape"
      ],
      "execution_count": null,
      "outputs": [
        {
          "output_type": "execute_result",
          "data": {
            "text/plain": [
              "(1778, 4)"
            ]
          },
          "metadata": {
            "tags": []
          },
          "execution_count": 34
        }
      ]
    },
    {
      "cell_type": "markdown",
      "metadata": {
        "id": "wI8RIdm5ABkD"
      },
      "source": [
        "##생명나노과학대학 대여권수"
      ]
    },
    {
      "cell_type": "code",
      "metadata": {
        "id": "IRqjIOet_8AU",
        "colab": {
          "base_uri": "https://localhost:8080/",
          "height": 35
        },
        "outputId": "6b615c5c-4846-4c2a-800c-362f4e8e6c63"
      },
      "source": [
        "so_ls =  so_2[so_2['학과'].isin(['생명시스템과학과' ,'식품영양학과','화학과' ,'수학과','간호학과','스포츠과학과','화공신소재공학과'])]\n",
        "so_ls.shape"
      ],
      "execution_count": null,
      "outputs": [
        {
          "output_type": "execute_result",
          "data": {
            "text/plain": [
              "(2525, 4)"
            ]
          },
          "metadata": {
            "tags": []
          },
          "execution_count": 35
        }
      ]
    },
    {
      "cell_type": "markdown",
      "metadata": {
        "id": "61N3US15Amgt"
      },
      "source": [
        "##사회적경제융합대학 대여권수"
      ]
    },
    {
      "cell_type": "code",
      "metadata": {
        "id": "gXPizqiaAduu",
        "colab": {
          "base_uri": "https://localhost:8080/",
          "height": 35
        },
        "outputId": "97f41755-2db8-446b-a6b3-a05cf0844a8b"
      },
      "source": [
        "so_se =  so_2[so_2['학과'].isin(['사회복지학과','아동복지학과'])]\n",
        "                               \n",
        "#상담심리학과 , 사회적경제기업학과 , 빅데이터응용학과 신규 생성학과 제외\n",
        "so_se.shape"
      ],
      "execution_count": null,
      "outputs": [
        {
          "output_type": "execute_result",
          "data": {
            "text/plain": [
              "(820, 4)"
            ]
          },
          "metadata": {
            "tags": []
          },
          "execution_count": 36
        }
      ]
    },
    {
      "cell_type": "markdown",
      "metadata": {
        "id": "ONpaASshA97t"
      },
      "source": [
        "##린튼글로벌비지니스 대여권수"
      ]
    },
    {
      "cell_type": "code",
      "metadata": {
        "id": "pZa8Ac5qA8VI",
        "colab": {
          "base_uri": "https://localhost:8080/",
          "height": 181
        },
        "outputId": "eb2a87fc-6548-4362-8a4d-7af79876adf6"
      },
      "source": [
        "so_gb =  so_2[so_2['학과'].isin(['글로벌비즈니스전공','글로벌IT경영전공'])]\n",
        "so_gb.info()"
      ],
      "execution_count": null,
      "outputs": [
        {
          "output_type": "stream",
          "text": [
            "<class 'pandas.core.frame.DataFrame'>\n",
            "Int64Index: 0 entries\n",
            "Data columns (total 4 columns):\n",
            "학과      0 non-null object\n",
            "청구기호    0 non-null object\n",
            "서명      0 non-null object\n",
            "대출일     0 non-null object\n",
            "dtypes: object(4)\n",
            "memory usage: 0.0+ bytes\n"
          ],
          "name": "stdout"
        }
      ]
    },
    {
      "cell_type": "markdown",
      "metadata": {
        "id": "ITj9Xj6yBLps"
      },
      "source": [
        "##조형예술학부 대여권수"
      ]
    },
    {
      "cell_type": "code",
      "metadata": {
        "id": "wUg8IZVOBK-Z",
        "colab": {
          "base_uri": "https://localhost:8080/",
          "height": 35
        },
        "outputId": "7abbd81c-a128-46e3-f994-4bb6a121b830"
      },
      "source": [
        "so_art =  so_2[so_2['학과'].isin(['조형예술학부','융합디자인전공','회화전공','의류학전공'])]\n",
        "so_art.shape"
      ],
      "execution_count": null,
      "outputs": [
        {
          "output_type": "execute_result",
          "data": {
            "text/plain": [
              "(860, 4)"
            ]
          },
          "metadata": {
            "tags": []
          },
          "execution_count": 38
        }
      ]
    },
    {
      "cell_type": "markdown",
      "metadata": {
        "id": "LPaPJnPoB-ia"
      },
      "source": [
        "##자유전공학부 대여권수"
      ]
    },
    {
      "cell_type": "code",
      "metadata": {
        "id": "gr1IjUuhB7fi",
        "colab": {
          "base_uri": "https://localhost:8080/",
          "height": 35
        },
        "outputId": "4fb4fe32-3992-4e12-d3ce-f542bbe7d1d0"
      },
      "source": [
        "so_free =  so_2[so_2['학과'].isin(['자유전공학부'])]\n",
        "so_free.shape"
      ],
      "execution_count": null,
      "outputs": [
        {
          "output_type": "execute_result",
          "data": {
            "text/plain": [
              "(60, 4)"
            ]
          },
          "metadata": {
            "tags": []
          },
          "execution_count": 39
        }
      ]
    },
    {
      "cell_type": "markdown",
      "metadata": {
        "id": "KYF47ZvIsugL"
      },
      "source": [
        "## 대학별 정리"
      ]
    },
    {
      "cell_type": "markdown",
      "metadata": {
        "id": "dhYsY6RADt9q"
      },
      "source": [
        "1)so_eg #공과대\n",
        "\n",
        "2)so_edu #사범대\n",
        "\n",
        "3)so_la #문과대\n",
        "\n",
        "4)so_ec #경상대학\n",
        "\n",
        "5)so_ss #법정대학\n",
        "\n",
        "6)so_ls #생명나노대학\n",
        "\n",
        "7)so_se #사회적경제융합대학\n",
        "\n",
        "8)so_gb #린튼글로벌비지니스 - 값이 없음 \n",
        "\n",
        "9)so_art #조형예술학부\n",
        "\n",
        "10)so_free #자유전공학부\n"
      ]
    },
    {
      "cell_type": "markdown",
      "metadata": {
        "id": "lb8x0NKFC3qn"
      },
      "source": [
        "### 데이터 정리"
      ]
    },
    {
      "cell_type": "code",
      "metadata": {
        "id": "xhqw4yzxvLSn",
        "colab": {
          "base_uri": "https://localhost:8080/",
          "height": 145
        },
        "outputId": "475e8982-3f8f-475f-bfbb-4849b6440bec"
      },
      "source": [
        "so_eg.청구기호 = so_eg.청구기호.str.slice(0, 3)\n",
        "so_eg.대출일 = so_eg.대출일.str.slice(4, 6)\n",
        "so_edu.청구기호 = so_edu.청구기호.str.slice(0, 3)\n",
        "so_edu.대출일 = so_edu.대출일.str.slice(4, 6)\n",
        "so_la.청구기호 = so_la.청구기호.str.slice(0, 3)\n",
        "so_la.대출일 = so_la.대출일.str.slice(4, 6)\n",
        "so_ec.청구기호 = so_ec.청구기호.str.slice(0, 3)\n",
        "so_ec.대출일 = so_ec.대출일.str.slice(4, 6)\n",
        "so_ss.청구기호 = so_ss.청구기호.str.slice(0, 3)\n",
        "so_ss.대출일 = so_ss.대출일.str.slice(4, 6)\n",
        "so_ls.청구기호 = so_ls.청구기호.str.slice(0, 3)\n",
        "so_ls.대출일 = so_ls.대출일.str.slice(4, 6)\n",
        "so_se.청구기호 = so_se.청구기호.str.slice(0, 3)\n",
        "so_se.대출일 = so_se.대출일.str.slice(4, 6)\n",
        "so_gb.청구기호 = so_gb.청구기호.str.slice(0, 3)\n",
        "so_gb.대출일 = so_gb.대출일.str.slice(4, 6)\n",
        "so_art.청구기호 = so_art.청구기호.str.slice(0, 3)\n",
        "so_art.대출일 = so_art.대출일.str.slice(4, 6)\n",
        "so_free.청구기호 = so_free.청구기호.str.slice(0, 3)\n",
        "so_free.대출일 = so_free.대출일.str.slice(4, 6)"
      ],
      "execution_count": null,
      "outputs": [
        {
          "output_type": "stream",
          "text": [
            "/usr/local/lib/python3.6/dist-packages/pandas/core/generic.py:5208: SettingWithCopyWarning: \n",
            "A value is trying to be set on a copy of a slice from a DataFrame.\n",
            "Try using .loc[row_indexer,col_indexer] = value instead\n",
            "\n",
            "See the caveats in the documentation: http://pandas.pydata.org/pandas-docs/stable/user_guide/indexing.html#returning-a-view-versus-a-copy\n",
            "  self[name] = value\n"
          ],
          "name": "stderr"
        }
      ]
    },
    {
      "cell_type": "code",
      "metadata": {
        "id": "ThPwPGQwf5-R"
      },
      "source": [
        "dso_eg = so_eg.drop(['학과','서명'], axis=1)\n",
        "dso_edu = so_edu.drop(['학과','서명'], axis=1)\n",
        "dso_la = so_la.drop(['학과','서명'], axis=1)\n",
        "dso_ec = so_ec.drop(['학과','서명'], axis=1)\n",
        "dso_ss = so_ss.drop(['학과','서명'], axis=1)\n",
        "dso_ls = so_ls.drop(['학과','서명'], axis=1)\n",
        "dso_se = so_se.drop(['학과','서명'], axis=1)\n",
        "dso_gb = so_gb.drop(['학과','서명'], axis=1)\n",
        "dso_art = so_art.drop(['학과','서명'], axis=1)\n",
        "dso_free = so_free.drop(['학과','서명'], axis=1)"
      ],
      "execution_count": null,
      "outputs": []
    },
    {
      "cell_type": "code",
      "metadata": {
        "id": "Ce20pfvsghks"
      },
      "source": [
        "dso_eg['청구기호']= dso_eg['청구기호'].astype('int')\n",
        "dso_eg['대출일'] = dso_eg['대출일'].astype('int')\n",
        "dso_edu['청구기호']= dso_edu['청구기호'].astype('int')\n",
        "dso_edu['대출일'] = dso_edu['대출일'].astype('int')\n",
        "dso_la['청구기호']= dso_la['청구기호'].astype('int')\n",
        "dso_la['대출일'] = dso_la['대출일'].astype('int')\n",
        "dso_ec['청구기호']= dso_ec['청구기호'].astype('int')\n",
        "dso_ec['대출일'] = dso_ec['대출일'].astype('int')\n",
        "dso_ss['청구기호']= dso_ss['청구기호'].astype('int')\n",
        "dso_ss['대출일'] = dso_ss['대출일'].astype('int')\n",
        "dso_ls['청구기호']= dso_ls['청구기호'].astype('int')\n",
        "dso_ls['대출일'] = dso_ls['대출일'].astype('int')\n",
        "dso_se['청구기호']= dso_se['청구기호'].astype('int')\n",
        "dso_se['대출일'] = dso_se['대출일'].astype('int')\n",
        "dso_gb['청구기호']= dso_gb['청구기호'].astype('int')\n",
        "dso_gb['대출일'] = dso_gb['대출일'].astype('int')\n",
        "dso_art['청구기호']= dso_art['청구기호'].astype('int')\n",
        "dso_art['대출일'] = dso_art['대출일'].astype('int')\n",
        "dso_free['청구기호']= dso_free['청구기호'].astype('int')\n",
        "dso_free['대출일'] = dso_free['대출일'].astype('int')"
      ],
      "execution_count": null,
      "outputs": []
    },
    {
      "cell_type": "markdown",
      "metadata": {
        "id": "CzC6OvzBmKU0"
      },
      "source": [
        "### 대학별 도서 선호 장르"
      ]
    },
    {
      "cell_type": "markdown",
      "metadata": {
        "id": "6fyXKjtgEBDL"
      },
      "source": [
        "1)공과대\n",
        "  \n",
        "    1위 813 : 미국문학\n",
        "    2위 823 : 영국문학\n",
        "    3위 621 : 공학\n",
        "    4위 620 : 공학\n",
        "    5위 006 : 총류\n",
        "\n",
        "\n",
        "2)사범대\n",
        "  \n",
        "    1위 951 : 아시아사\n",
        "    2위 813 : 미국문학\n",
        "    3위 370 : 교육학\n",
        "    4위 810 : 미국문학\n",
        "    5위 823 : 영국문학\n",
        "\n",
        "\n",
        "3)문과대\n",
        "  \n",
        "    1위 813 : 미국문학\n",
        "    2위 823 : 영국문학\n",
        "    3위 895 : 기타 문학\n",
        "    4위 811 : 미국문학\n",
        "    5위 843 : 프랑스문학\n",
        "\n",
        "\n",
        "4)경상대학\n",
        "  \n",
        "    1위 658 : 경영 및 보조서비스\n",
        "    2위 813 : 미국문학\n",
        "    3위 823 : 영국문학\n",
        "    4위 895 : 기타 문학\n",
        "    5위 330 : 경제학\n",
        "\n",
        "\n",
        "5)법정대학\n",
        "  \n",
        "    1위 813 : 미국문학\n",
        "    2위 895 : 기타 문학\n",
        "    3위 345 : 법률학\n",
        "    4위 951 : 아시아사\n",
        "    5위 361 : 사회문제 및 복지\n",
        "\n",
        "\n",
        "6)생명나노대학\n",
        "  \n",
        "    1위 895 : 기타 문학\n",
        "    2위 813 : 미국문학\n",
        "    3위 574 : 생명과학, 생물학\n",
        "    4위 610 : 의학 및 보건\n",
        "    5위 820 : 영국문학\n",
        "\n",
        "\n",
        "7)사회적경제융합대학\n",
        "  \n",
        "    1위 813 : 미국문학\n",
        "    2위 361 : 사회문제 및 복지\n",
        "    3위 951 : 아시아사\n",
        "    4위 158 : 심리학\n",
        "    5위 362 : 사회문제 및 복지\n",
        "\n",
        "\n",
        "8)린튼글로벌비지니스 - 값이 없음 \n",
        "\n",
        "\n",
        "9)조형예술학부\n",
        "  \n",
        "    1위 745 : 그래픽아트, 장식예술\n",
        "    2위 741 : 그래픽아트, 장식예술\n",
        "    3위 813 : 미국문학\n",
        "    4위 709 : 예술 및 장식 미술\n",
        "    5위 759 : 회화\n",
        "\n",
        "\n",
        "10)자유전공학부\n",
        "  \n",
        "    1위 813 : 미국문학\n",
        "    2위 843 : 프랑스문학\n",
        "    3위 818 : 미국문학\n",
        "    4위 823 : 영국문학\n",
        "    5위 895 : 기타 문학\n"
      ]
    },
    {
      "cell_type": "code",
      "metadata": {
        "id": "7iqpbXnhPEIi"
      },
      "source": [
        "cso_eg = so_eg.청구기호.value_counts().head(15)\n",
        "cso_edu = so_edu.청구기호.value_counts().head(15)\n",
        "cso_la = so_la.청구기호.value_counts().head(15)\n",
        "cso_ec = so_ec.청구기호.value_counts().head(15)\n",
        "cso_ss = so_ss.청구기호.value_counts().head(15)\n",
        "cso_ls = so_ls.청구기호.value_counts().head(15)\n",
        "cso_se = so_se.청구기호.value_counts().head(15)\n",
        "cso_gb = so_gb.청구기호.value_counts().head(15)\n",
        "cso_art = so_art.청구기호.value_counts().head(15)\n",
        "cso_free = so_free.청구기호.value_counts().head(15)\n",
        "cso_eg = pd.DataFrame({'청구기호':cso_eg.index, 'count':cso_eg.values})\n",
        "cso_edu = pd.DataFrame({'청구기호':cso_edu.index, 'count':cso_edu.values})\n",
        "cso_la = pd.DataFrame({'청구기호':cso_la.index, 'count':cso_la.values})\n",
        "cso_ec = pd.DataFrame({'청구기호':cso_ec.index, 'count':cso_ec.values})\n",
        "cso_ss = pd.DataFrame({'청구기호':cso_ss.index, 'count':cso_ss.values})\n",
        "cso_ls = pd.DataFrame({'청구기호':cso_ls.index, 'count':cso_ls.values})\n",
        "cso_se = pd.DataFrame({'청구기호':cso_se.index, 'count':cso_se.values})\n",
        "cso_gb = pd.DataFrame({'청구기호':cso_gb.index, 'count':cso_gb.values})\n",
        "cso_art = pd.DataFrame({'청구기호':cso_art.index, 'count':cso_art.values})\n",
        "cso_free = pd.DataFrame({'청구기호':cso_free.index, 'count':cso_free.values})"
      ],
      "execution_count": null,
      "outputs": []
    },
    {
      "cell_type": "code",
      "metadata": {
        "id": "GfzNZQr9Actp"
      },
      "source": [
        "cso_eg"
      ],
      "execution_count": null,
      "outputs": []
    },
    {
      "cell_type": "code",
      "metadata": {
        "id": "jzgd5SF1Acoj"
      },
      "source": [
        "cso_edu"
      ],
      "execution_count": null,
      "outputs": []
    },
    {
      "cell_type": "code",
      "metadata": {
        "id": "TbrQA6_RAcko"
      },
      "source": [
        "cso_la"
      ],
      "execution_count": null,
      "outputs": []
    },
    {
      "cell_type": "code",
      "metadata": {
        "id": "UWTUU55cAcgU"
      },
      "source": [
        "cso_ec"
      ],
      "execution_count": null,
      "outputs": []
    },
    {
      "cell_type": "code",
      "metadata": {
        "id": "tP9KJM-WAccm"
      },
      "source": [
        "cso_ss"
      ],
      "execution_count": null,
      "outputs": []
    },
    {
      "cell_type": "code",
      "metadata": {
        "id": "W48LGeSkNNPg"
      },
      "source": [
        "cso_ls"
      ],
      "execution_count": null,
      "outputs": []
    },
    {
      "cell_type": "code",
      "metadata": {
        "id": "ZRg-jGIBNNIZ"
      },
      "source": [
        "cso_se"
      ],
      "execution_count": null,
      "outputs": []
    },
    {
      "cell_type": "code",
      "metadata": {
        "id": "XHfHu27_gwJb"
      },
      "source": [
        "cso_gb"
      ],
      "execution_count": null,
      "outputs": []
    },
    {
      "cell_type": "code",
      "metadata": {
        "id": "fPhTC6ydNM64"
      },
      "source": [
        "cso_art"
      ],
      "execution_count": null,
      "outputs": []
    },
    {
      "cell_type": "code",
      "metadata": {
        "id": "kWNEVbg7NMyZ"
      },
      "source": [
        "cso_free"
      ],
      "execution_count": null,
      "outputs": []
    },
    {
      "cell_type": "markdown",
      "metadata": {
        "id": "fPCK3lg8mTN5"
      },
      "source": [
        "### 대학별 청구기호와 대출월 관련 그래프"
      ]
    },
    {
      "cell_type": "markdown",
      "metadata": {
        "id": "kUiopzNlHPOo"
      },
      "source": [
        "#### sns.barplot"
      ]
    },
    {
      "cell_type": "code",
      "metadata": {
        "id": "RKEokfnLjtZQ"
      },
      "source": [
        "sns.set_style(\"whitegrid\")\n",
        "sns.barplot(x=\"청구기호\", y=\"대출일\", data=dso_eg)\n",
        "plt.suptitle(\"Engineering\", y=1.02)\n",
        "plt.show()"
      ],
      "execution_count": null,
      "outputs": []
    },
    {
      "cell_type": "code",
      "metadata": {
        "id": "0b6DusFGjtSg"
      },
      "source": [
        "sns.set_style(\"whitegrid\")\n",
        "sns.barplot(x=\"청구기호\", y=\"대출일\", data=dso_edu)\n",
        "plt.suptitle(\"Education\", y=1.02)\n",
        "plt.show()"
      ],
      "execution_count": null,
      "outputs": []
    },
    {
      "cell_type": "code",
      "metadata": {
        "id": "P0zoiBdvjtL0"
      },
      "source": [
        "sns.set_style(\"whitegrid\")\n",
        "sns.barplot(x=\"청구기호\", y=\"대출일\", data=dso_la)\n",
        "plt.suptitle(\"Liberal Arts\", y=1.02)\n",
        "plt.show()"
      ],
      "execution_count": null,
      "outputs": []
    },
    {
      "cell_type": "code",
      "metadata": {
        "id": "eg-QH-ccjtE1"
      },
      "source": [
        "sns.set_style(\"whitegrid\")\n",
        "sns.barplot(x=\"청구기호\", y=\"대출일\", data=dso_ec)\n",
        "plt.suptitle(\"Business\", y=1.02)\n",
        "plt.show()"
      ],
      "execution_count": null,
      "outputs": []
    },
    {
      "cell_type": "code",
      "metadata": {
        "id": "Qpb8j3sSjs6-"
      },
      "source": [
        "sns.set_style(\"whitegrid\")\n",
        "sns.barplot(x=\"청구기호\", y=\"대출일\", data=dso_ss)\n",
        "plt.suptitle(\"Law\", y=1.02)\n",
        "plt.show()"
      ],
      "execution_count": null,
      "outputs": []
    },
    {
      "cell_type": "markdown",
      "metadata": {
        "id": "uu1xX0OjHYow"
      },
      "source": [
        "#### sns.jointplot"
      ]
    },
    {
      "cell_type": "code",
      "metadata": {
        "id": "lTVUc6B-eW5G"
      },
      "source": [
        "sns.set_style(\"whitegrid\")\n",
        "sns.jointplot(x=\"청구기호\", y=\"대출일\", data=dso_eg)\n",
        "plt.suptitle(\"Engineering\", y=1.02)\n",
        "plt.show()"
      ],
      "execution_count": null,
      "outputs": []
    },
    {
      "cell_type": "code",
      "metadata": {
        "id": "i8FAZzZOeW24"
      },
      "source": [
        "sns.set_style(\"whitegrid\")\n",
        "sns.jointplot(x=\"청구기호\", y=\"대출일\", data=dso_edu)\n",
        "plt.suptitle(\"Education\", y=1.02)\n",
        "plt.show()"
      ],
      "execution_count": null,
      "outputs": []
    },
    {
      "cell_type": "code",
      "metadata": {
        "id": "udumcCI1eWzg"
      },
      "source": [
        "sns.set_style(\"whitegrid\")\n",
        "sns.jointplot(x=\"청구기호\", y=\"대출일\", data=dso_la)\n",
        "plt.suptitle(\"Liberal Arts\", y=1.02)\n",
        "plt.show()"
      ],
      "execution_count": null,
      "outputs": []
    },
    {
      "cell_type": "code",
      "metadata": {
        "id": "xrgcReGVeWw5"
      },
      "source": [
        "sns.set_style(\"whitegrid\")\n",
        "sns.jointplot(x=\"청구기호\", y=\"대출일\", data=dso_ec)\n",
        "plt.suptitle(\"Business\", y=1.02)\n",
        "plt.show()"
      ],
      "execution_count": null,
      "outputs": []
    },
    {
      "cell_type": "code",
      "metadata": {
        "id": "adFNzViNeWuH"
      },
      "source": [
        "sns.set_style(\"whitegrid\")\n",
        "sns.jointplot(x=\"청구기호\", y=\"대출일\", data=dso_ss)\n",
        "plt.suptitle(\"Law\", y=1.02)\n",
        "plt.show()"
      ],
      "execution_count": null,
      "outputs": []
    },
    {
      "cell_type": "markdown",
      "metadata": {
        "id": "elw15UYNHgiX"
      },
      "source": [
        "#### sns.jointplot_kde"
      ]
    },
    {
      "cell_type": "code",
      "metadata": {
        "id": "AUdY_zQLTda0"
      },
      "source": [
        "sns.set_style(\"whitegrid\")\n",
        "sns.jointplot(x=\"청구기호\", y=\"대출일\", data=so_eg, kind=\"kde\")\n",
        "plt.suptitle(\"Engineering\", y=1.02)\n",
        "plt.show()"
      ],
      "execution_count": null,
      "outputs": []
    },
    {
      "cell_type": "code",
      "metadata": {
        "id": "d3h2WVJpbqQ3"
      },
      "source": [
        "sns.set_style(\"whitegrid\")\n",
        "sns.jointplot(x=\"청구기호\", y=\"대출일\", data=so_edu, kind=\"kde\")\n",
        "plt.suptitle(\"Education\", y=1.02)\n",
        "plt.show()"
      ],
      "execution_count": null,
      "outputs": []
    },
    {
      "cell_type": "code",
      "metadata": {
        "id": "iS1JsNUab5K0"
      },
      "source": [
        "sns.set_style(\"whitegrid\")\n",
        "sns.jointplot(x=\"청구기호\", y=\"대출일\", data=so_la, kind=\"kde\")\n",
        "plt.suptitle(\"Liberal Arts\", y=1.02)\n",
        "plt.show()"
      ],
      "execution_count": null,
      "outputs": []
    },
    {
      "cell_type": "code",
      "metadata": {
        "id": "AIFgn5Lvb5Vm"
      },
      "source": [
        "sns.set_style(\"whitegrid\")\n",
        "sns.jointplot(x=\"청구기호\", y=\"대출일\", data=so_ec, kind=\"kde\")\n",
        "plt.suptitle(\"Business\", y=1.02)\n",
        "plt.show()"
      ],
      "execution_count": null,
      "outputs": []
    },
    {
      "cell_type": "code",
      "metadata": {
        "id": "Er7jxVcZb5gR"
      },
      "source": [
        "sns.set_style(\"whitegrid\")\n",
        "sns.jointplot(x=\"청구기호\", y=\"대출일\", data=so_ss, kind=\"kde\")\n",
        "plt.suptitle(\"Law\", y=1.02)\n",
        "plt.show()"
      ],
      "execution_count": null,
      "outputs": []
    },
    {
      "cell_type": "markdown",
      "metadata": {
        "id": "ZH4ER7r2Ho3R"
      },
      "source": [
        "#### 대학별 청구기호를 이용한 선호 장르 barplot"
      ]
    },
    {
      "cell_type": "code",
      "metadata": {
        "id": "wLWBP-0ib5fN"
      },
      "source": [
        "eg = cso_eg.plot(kind='bar', x='청구기호', y='count', title='Engineering', color=['cornflowerblue', 'lightskyblue','paleturquoise', 'springgreen',  'lightgreen', 'greenyellow','yellow','gold', 'orange', 'coral'], figsize=(12, 4), fontsize=12)\n",
        "#eg.set_xlabel('서명', fontsize=12)          # x축 정보 표시\n",
        "#eg.set_ylabel('LB_sum', fontsize=12)     # y축 정보 표시\n",
        "#eg.legend(['LB_sum'], fontsize=12)    # 범례 지정"
      ],
      "execution_count": null,
      "outputs": []
    },
    {
      "cell_type": "code",
      "metadata": {
        "id": "tEJ9mL9sdMyA"
      },
      "source": [
        "edu = cso_edu.plot(kind='bar', x='청구기호', y='count', title='Education', color=['cornflowerblue', 'lightskyblue','paleturquoise', 'springgreen',  'lightgreen', 'greenyellow','yellow','gold', 'orange', 'coral'], figsize=(12, 4), fontsize=12)"
      ],
      "execution_count": null,
      "outputs": []
    },
    {
      "cell_type": "code",
      "metadata": {
        "id": "pF5GWsWndgmB"
      },
      "source": [
        "la = cso_la.plot(kind='bar', x='청구기호', y='count', title='Liberal Arts', color=['cornflowerblue', 'lightskyblue','paleturquoise', 'springgreen',  'lightgreen', 'greenyellow','yellow','gold', 'orange', 'coral'], figsize=(12, 4), fontsize=12)"
      ],
      "execution_count": null,
      "outputs": []
    },
    {
      "cell_type": "code",
      "metadata": {
        "id": "qZe6FDOFdoA_"
      },
      "source": [
        "ec = cso_ec.plot(kind='bar', x='청구기호', y='count', title='Business', color=['cornflowerblue', 'lightskyblue','paleturquoise', 'springgreen',  'lightgreen', 'greenyellow','yellow','gold', 'orange', 'coral'], figsize=(12, 4), fontsize=12)"
      ],
      "execution_count": null,
      "outputs": []
    },
    {
      "cell_type": "code",
      "metadata": {
        "id": "RZA_PJxYdu5m"
      },
      "source": [
        "ss = cso_ss.plot(kind='bar', x='청구기호', y='count', title='Law', color=['cornflowerblue', 'lightskyblue','paleturquoise', 'springgreen',  'lightgreen', 'greenyellow','yellow','gold', 'orange', 'coral'], figsize=(12, 4), fontsize=12)"
      ],
      "execution_count": null,
      "outputs": []
    },
    {
      "cell_type": "code",
      "metadata": {
        "id": "Efu07IYTdzVG",
        "colab": {
          "base_uri": "https://localhost:8080/",
          "height": 600
        },
        "outputId": "09433064-f6d2-493e-f75a-b78418ba8e0d"
      },
      "source": [
        "ls = cso_ls.plot(kind='bar', x='청구기호', y='count', title='Life Nano', color=['cornflowerblue', 'lightskyblue','paleturquoise', 'springgreen',  'lightgreen', 'greenyellow','yellow','gold', 'orange', 'coral'], figsize=(12, 4), fontsize=12)"
      ],
      "execution_count": null,
      "outputs": [
        {
          "output_type": "stream",
          "text": [
            "/usr/local/lib/python3.6/dist-packages/matplotlib/backends/backend_agg.py:211: RuntimeWarning: Glyph 52397 missing from current font.\n",
            "  font.set_text(s, 0.0, flags=flags)\n",
            "/usr/local/lib/python3.6/dist-packages/matplotlib/backends/backend_agg.py:211: RuntimeWarning: Glyph 44396 missing from current font.\n",
            "  font.set_text(s, 0.0, flags=flags)\n",
            "/usr/local/lib/python3.6/dist-packages/matplotlib/backends/backend_agg.py:211: RuntimeWarning: Glyph 44592 missing from current font.\n",
            "  font.set_text(s, 0.0, flags=flags)\n",
            "/usr/local/lib/python3.6/dist-packages/matplotlib/backends/backend_agg.py:211: RuntimeWarning: Glyph 54840 missing from current font.\n",
            "  font.set_text(s, 0.0, flags=flags)\n",
            "/usr/local/lib/python3.6/dist-packages/matplotlib/backends/backend_agg.py:180: RuntimeWarning: Glyph 52397 missing from current font.\n",
            "  font.set_text(s, 0, flags=flags)\n",
            "/usr/local/lib/python3.6/dist-packages/matplotlib/backends/backend_agg.py:180: RuntimeWarning: Glyph 44396 missing from current font.\n",
            "  font.set_text(s, 0, flags=flags)\n",
            "/usr/local/lib/python3.6/dist-packages/matplotlib/backends/backend_agg.py:180: RuntimeWarning: Glyph 44592 missing from current font.\n",
            "  font.set_text(s, 0, flags=flags)\n",
            "/usr/local/lib/python3.6/dist-packages/matplotlib/backends/backend_agg.py:180: RuntimeWarning: Glyph 54840 missing from current font.\n",
            "  font.set_text(s, 0, flags=flags)\n"
          ],
          "name": "stderr"
        },
        {
          "output_type": "display_data",
          "data": {
            "image/png": "[encoded data removed]",
            "text/plain": [
              "<Figure size 864x288 with 1 Axes>"
            ]
          },
          "metadata": {
            "tags": [],
            "image/png": {
              "width": 716,
              "height": 295
            }
          }
        }
      ]
    },
    {
      "cell_type": "code",
      "metadata": {
        "id": "PlfT6PJhjJHR",
        "colab": {
          "base_uri": "https://localhost:8080/",
          "height": 600
        },
        "outputId": "d962b0ca-4225-4874-8b71-8d22365a8f08"
      },
      "source": [
        "se = cso_se.plot(kind='bar', x='청구기호', y='count', title='Socioeconomic Convergence', color=['cornflowerblue', 'lightskyblue','paleturquoise', 'springgreen',  'lightgreen', 'greenyellow','yellow','gold', 'orange', 'coral'], figsize=(12, 4), fontsize=12)"
      ],
      "execution_count": null,
      "outputs": [
        {
          "output_type": "stream",
          "text": [
            "/usr/local/lib/python3.6/dist-packages/matplotlib/backends/backend_agg.py:211: RuntimeWarning: Glyph 52397 missing from current font.\n",
            "  font.set_text(s, 0.0, flags=flags)\n",
            "/usr/local/lib/python3.6/dist-packages/matplotlib/backends/backend_agg.py:211: RuntimeWarning: Glyph 44396 missing from current font.\n",
            "  font.set_text(s, 0.0, flags=flags)\n",
            "/usr/local/lib/python3.6/dist-packages/matplotlib/backends/backend_agg.py:211: RuntimeWarning: Glyph 44592 missing from current font.\n",
            "  font.set_text(s, 0.0, flags=flags)\n",
            "/usr/local/lib/python3.6/dist-packages/matplotlib/backends/backend_agg.py:211: RuntimeWarning: Glyph 54840 missing from current font.\n",
            "  font.set_text(s, 0.0, flags=flags)\n",
            "/usr/local/lib/python3.6/dist-packages/matplotlib/backends/backend_agg.py:180: RuntimeWarning: Glyph 52397 missing from current font.\n",
            "  font.set_text(s, 0, flags=flags)\n",
            "/usr/local/lib/python3.6/dist-packages/matplotlib/backends/backend_agg.py:180: RuntimeWarning: Glyph 44396 missing from current font.\n",
            "  font.set_text(s, 0, flags=flags)\n",
            "/usr/local/lib/python3.6/dist-packages/matplotlib/backends/backend_agg.py:180: RuntimeWarning: Glyph 44592 missing from current font.\n",
            "  font.set_text(s, 0, flags=flags)\n",
            "/usr/local/lib/python3.6/dist-packages/matplotlib/backends/backend_agg.py:180: RuntimeWarning: Glyph 54840 missing from current font.\n",
            "  font.set_text(s, 0, flags=flags)\n"
          ],
          "name": "stderr"
        },
        {
          "output_type": "display_data",
          "data": {
            "image/png": "[encoded data removed]",
            "text/plain": [
              "<Figure size 864x288 with 1 Axes>"
            ]
          },
          "metadata": {
            "tags": [],
            "image/png": {
              "width": 708,
              "height": 295
            }
          }
        }
      ]
    },
    {
      "cell_type": "code",
      "metadata": {
        "id": "mMQtAQyMjo-G",
        "colab": {
          "base_uri": "https://localhost:8080/",
          "height": 600
        },
        "outputId": "2cc1ca0e-aab1-4a20-a018-8fb4fbe5555b"
      },
      "source": [
        "art = cso_art.plot(kind='bar', x='청구기호', y='count', title='Sculpture Art', color=['cornflowerblue', 'lightskyblue','paleturquoise', 'springgreen',  'lightgreen', 'greenyellow','yellow','gold', 'orange', 'coral'], figsize=(12, 4), fontsize=12)"
      ],
      "execution_count": null,
      "outputs": [
        {
          "output_type": "stream",
          "text": [
            "/usr/local/lib/python3.6/dist-packages/matplotlib/backends/backend_agg.py:211: RuntimeWarning: Glyph 52397 missing from current font.\n",
            "  font.set_text(s, 0.0, flags=flags)\n",
            "/usr/local/lib/python3.6/dist-packages/matplotlib/backends/backend_agg.py:211: RuntimeWarning: Glyph 44396 missing from current font.\n",
            "  font.set_text(s, 0.0, flags=flags)\n",
            "/usr/local/lib/python3.6/dist-packages/matplotlib/backends/backend_agg.py:211: RuntimeWarning: Glyph 44592 missing from current font.\n",
            "  font.set_text(s, 0.0, flags=flags)\n",
            "/usr/local/lib/python3.6/dist-packages/matplotlib/backends/backend_agg.py:211: RuntimeWarning: Glyph 54840 missing from current font.\n",
            "  font.set_text(s, 0.0, flags=flags)\n",
            "/usr/local/lib/python3.6/dist-packages/matplotlib/backends/backend_agg.py:180: RuntimeWarning: Glyph 52397 missing from current font.\n",
            "  font.set_text(s, 0, flags=flags)\n",
            "/usr/local/lib/python3.6/dist-packages/matplotlib/backends/backend_agg.py:180: RuntimeWarning: Glyph 44396 missing from current font.\n",
            "  font.set_text(s, 0, flags=flags)\n",
            "/usr/local/lib/python3.6/dist-packages/matplotlib/backends/backend_agg.py:180: RuntimeWarning: Glyph 44592 missing from current font.\n",
            "  font.set_text(s, 0, flags=flags)\n",
            "/usr/local/lib/python3.6/dist-packages/matplotlib/backends/backend_agg.py:180: RuntimeWarning: Glyph 54840 missing from current font.\n",
            "  font.set_text(s, 0, flags=flags)\n"
          ],
          "name": "stderr"
        },
        {
          "output_type": "display_data",
          "data": {
            "image/png": "[encoded data removed]",
            "text/plain": [
              "<Figure size 864x288 with 1 Axes>"
            ]
          },
          "metadata": {
            "tags": [],
            "image/png": {
              "width": 708,
              "height": 295
            }
          }
        }
      ]
    },
    {
      "cell_type": "code",
      "metadata": {
        "id": "bR0tdHVNk0zX",
        "colab": {
          "base_uri": "https://localhost:8080/",
          "height": 600
        },
        "outputId": "5a8dd8e2-11b6-4042-fe51-21bf5268b03b"
      },
      "source": [
        "free = cso_free.plot(kind='bar', x='청구기호', y='count', title='Autonomous Major', color=['cornflowerblue', 'lightskyblue','paleturquoise', 'springgreen',  'lightgreen', 'greenyellow','yellow','gold', 'orange', 'coral'], figsize=(12, 4), fontsize=12)"
      ],
      "execution_count": null,
      "outputs": [
        {
          "output_type": "stream",
          "text": [
            "/usr/local/lib/python3.6/dist-packages/matplotlib/backends/backend_agg.py:211: RuntimeWarning: Glyph 52397 missing from current font.\n",
            "  font.set_text(s, 0.0, flags=flags)\n",
            "/usr/local/lib/python3.6/dist-packages/matplotlib/backends/backend_agg.py:211: RuntimeWarning: Glyph 44396 missing from current font.\n",
            "  font.set_text(s, 0.0, flags=flags)\n",
            "/usr/local/lib/python3.6/dist-packages/matplotlib/backends/backend_agg.py:211: RuntimeWarning: Glyph 44592 missing from current font.\n",
            "  font.set_text(s, 0.0, flags=flags)\n",
            "/usr/local/lib/python3.6/dist-packages/matplotlib/backends/backend_agg.py:211: RuntimeWarning: Glyph 54840 missing from current font.\n",
            "  font.set_text(s, 0.0, flags=flags)\n",
            "/usr/local/lib/python3.6/dist-packages/matplotlib/backends/backend_agg.py:180: RuntimeWarning: Glyph 52397 missing from current font.\n",
            "  font.set_text(s, 0, flags=flags)\n",
            "/usr/local/lib/python3.6/dist-packages/matplotlib/backends/backend_agg.py:180: RuntimeWarning: Glyph 44396 missing from current font.\n",
            "  font.set_text(s, 0, flags=flags)\n",
            "/usr/local/lib/python3.6/dist-packages/matplotlib/backends/backend_agg.py:180: RuntimeWarning: Glyph 44592 missing from current font.\n",
            "  font.set_text(s, 0, flags=flags)\n",
            "/usr/local/lib/python3.6/dist-packages/matplotlib/backends/backend_agg.py:180: RuntimeWarning: Glyph 54840 missing from current font.\n",
            "  font.set_text(s, 0, flags=flags)\n"
          ],
          "name": "stderr"
        },
        {
          "output_type": "display_data",
          "data": {
            "image/png": "[encoded data removed]",
            "text/plain": [
              "<Figure size 864x288 with 1 Axes>"
            ]
          },
          "metadata": {
            "tags": [],
            "image/png": {
              "width": 708,
              "height": 295
            }
          }
        }
      ]
    },
    {
      "cell_type": "code",
      "metadata": {
        "id": "oR9i998ik9qe"
      },
      "source": [
        ""
      ],
      "execution_count": null,
      "outputs": []
    },
    {
      "cell_type": "markdown",
      "metadata": {
        "id": "F4-cD3IOFg4e"
      },
      "source": [
        "## 전체 데이터"
      ]
    },
    {
      "cell_type": "markdown",
      "metadata": {
        "id": "hq9IEEnUPUWi"
      },
      "source": [
        "### 코딩"
      ]
    },
    {
      "cell_type": "code",
      "metadata": {
        "id": "YG84QVShFmET"
      },
      "source": [
        "so_t = pd.concat([so_eg,so_edu,so_la,so_ec ,so_ss,so_ls , so_se,so_gb , so_art, so_free])\n",
        "so_t = so_t.reset_index()"
      ],
      "execution_count": null,
      "outputs": []
    },
    {
      "cell_type": "code",
      "metadata": {
        "id": "iZxOQxPjGHNj"
      },
      "source": [
        "so_t.청구기호 = so_t.청구기호.str.slice(0, 1)\n",
        "so_t.대출일 = so_t.대출일.str.slice(4, 6)"
      ],
      "execution_count": null,
      "outputs": []
    },
    {
      "cell_type": "code",
      "metadata": {
        "id": "SkvQ2oLSI7DX"
      },
      "source": [
        "so_t.청구기호 = so_t.청구기호.str.pad(width=3, side='right', fillchar='0')"
      ],
      "execution_count": null,
      "outputs": []
    },
    {
      "cell_type": "code",
      "metadata": {
        "id": "v-pOLn6jG8h7"
      },
      "source": [
        "cso_t = so_t.청구기호.value_counts().head(15)\n",
        "cso_t = pd.DataFrame({'청구기호':cso_t.index, 'count':(cso_t.values/17516)*100})\n",
        "cso_t['count'] = cso_t['count'].astype(int)"
      ],
      "execution_count": null,
      "outputs": []
    },
    {
      "cell_type": "code",
      "metadata": {
        "id": "8ZllO_OQGHLJ"
      },
      "source": [
        "dso_t = so_t.drop(['학과','서명'], axis=1)"
      ],
      "execution_count": null,
      "outputs": []
    },
    {
      "cell_type": "code",
      "metadata": {
        "id": "qRRI_7NDGHJS"
      },
      "source": [
        "dso_t['청구기호']= dso_t['청구기호'].astype('int')\n",
        "dso_t['대출일'] = dso_t['대출일'].astype('int')"
      ],
      "execution_count": null,
      "outputs": []
    },
    {
      "cell_type": "code",
      "metadata": {
        "id": "B6H-gt4XGHGS",
        "colab": {
          "base_uri": "https://localhost:8080/",
          "height": 1000
        },
        "outputId": "499ac5fa-baca-4e4b-9201-7866c6418897"
      },
      "source": [
        "sns.set_style(\"whitegrid\")\n",
        "sns.barplot(x=\"청구기호\", y=\"대출일\", data=dso_t)\n",
        "plt.suptitle(\"All\", y=1.02)\n",
        "plt.show()"
      ],
      "execution_count": null,
      "outputs": [
        {
          "output_type": "stream",
          "text": [
            "/usr/local/lib/python3.6/dist-packages/matplotlib/backends/backend_agg.py:211: RuntimeWarning: Glyph 52397 missing from current font.\n",
            "  font.set_text(s, 0.0, flags=flags)\n",
            "/usr/local/lib/python3.6/dist-packages/matplotlib/backends/backend_agg.py:211: RuntimeWarning: Glyph 44396 missing from current font.\n",
            "  font.set_text(s, 0.0, flags=flags)\n",
            "/usr/local/lib/python3.6/dist-packages/matplotlib/backends/backend_agg.py:211: RuntimeWarning: Glyph 44592 missing from current font.\n",
            "  font.set_text(s, 0.0, flags=flags)\n",
            "/usr/local/lib/python3.6/dist-packages/matplotlib/backends/backend_agg.py:211: RuntimeWarning: Glyph 54840 missing from current font.\n",
            "  font.set_text(s, 0.0, flags=flags)\n",
            "/usr/local/lib/python3.6/dist-packages/matplotlib/backends/backend_agg.py:180: RuntimeWarning: Glyph 52397 missing from current font.\n",
            "  font.set_text(s, 0, flags=flags)\n",
            "/usr/local/lib/python3.6/dist-packages/matplotlib/backends/backend_agg.py:180: RuntimeWarning: Glyph 44396 missing from current font.\n",
            "  font.set_text(s, 0, flags=flags)\n",
            "/usr/local/lib/python3.6/dist-packages/matplotlib/backends/backend_agg.py:180: RuntimeWarning: Glyph 44592 missing from current font.\n",
            "  font.set_text(s, 0, flags=flags)\n",
            "/usr/local/lib/python3.6/dist-packages/matplotlib/backends/backend_agg.py:180: RuntimeWarning: Glyph 54840 missing from current font.\n",
            "  font.set_text(s, 0, flags=flags)\n",
            "/usr/local/lib/python3.6/dist-packages/matplotlib/backends/backend_agg.py:211: RuntimeWarning: Glyph 45824 missing from current font.\n",
            "  font.set_text(s, 0.0, flags=flags)\n",
            "/usr/local/lib/python3.6/dist-packages/matplotlib/backends/backend_agg.py:211: RuntimeWarning: Glyph 52636 missing from current font.\n",
            "  font.set_text(s, 0.0, flags=flags)\n",
            "/usr/local/lib/python3.6/dist-packages/matplotlib/backends/backend_agg.py:211: RuntimeWarning: Glyph 51068 missing from current font.\n",
            "  font.set_text(s, 0.0, flags=flags)\n",
            "/usr/local/lib/python3.6/dist-packages/matplotlib/backends/backend_agg.py:180: RuntimeWarning: Glyph 45824 missing from current font.\n",
            "  font.set_text(s, 0, flags=flags)\n",
            "/usr/local/lib/python3.6/dist-packages/matplotlib/backends/backend_agg.py:180: RuntimeWarning: Glyph 52636 missing from current font.\n",
            "  font.set_text(s, 0, flags=flags)\n",
            "/usr/local/lib/python3.6/dist-packages/matplotlib/backends/backend_agg.py:180: RuntimeWarning: Glyph 51068 missing from current font.\n",
            "  font.set_text(s, 0, flags=flags)\n"
          ],
          "name": "stderr"
        },
        {
          "output_type": "display_data",
          "data": {
            "image/png": "[encoded data removed]",
            "text/plain": [
              "<Figure size 1008x576 with 1 Axes>"
            ]
          },
          "metadata": {
            "tags": [],
            "image/png": {
              "width": 828,
              "height": 565
            }
          }
        }
      ]
    },
    {
      "cell_type": "code",
      "metadata": {
        "id": "C4k3crmSGHDu",
        "colab": {
          "base_uri": "https://localhost:8080/",
          "height": 969
        },
        "outputId": "94de66e6-ef90-4089-e740-35f1fbd0cedf"
      },
      "source": [
        "sns.set_style(\"whitegrid\")\n",
        "sns.jointplot(x=\"청구기호\", y=\"대출일\", data=dso_t)\n",
        "plt.suptitle(\"All\", y=1.02)\n",
        "plt.show()"
      ],
      "execution_count": null,
      "outputs": [
        {
          "output_type": "stream",
          "text": [
            "/usr/local/lib/python3.6/dist-packages/matplotlib/backends/backend_agg.py:211: RuntimeWarning: Glyph 52397 missing from current font.\n",
            "  font.set_text(s, 0.0, flags=flags)\n",
            "/usr/local/lib/python3.6/dist-packages/matplotlib/backends/backend_agg.py:211: RuntimeWarning: Glyph 44396 missing from current font.\n",
            "  font.set_text(s, 0.0, flags=flags)\n",
            "/usr/local/lib/python3.6/dist-packages/matplotlib/backends/backend_agg.py:211: RuntimeWarning: Glyph 44592 missing from current font.\n",
            "  font.set_text(s, 0.0, flags=flags)\n",
            "/usr/local/lib/python3.6/dist-packages/matplotlib/backends/backend_agg.py:211: RuntimeWarning: Glyph 54840 missing from current font.\n",
            "  font.set_text(s, 0.0, flags=flags)\n",
            "/usr/local/lib/python3.6/dist-packages/matplotlib/backends/backend_agg.py:211: RuntimeWarning: Glyph 45824 missing from current font.\n",
            "  font.set_text(s, 0.0, flags=flags)\n",
            "/usr/local/lib/python3.6/dist-packages/matplotlib/backends/backend_agg.py:211: RuntimeWarning: Glyph 52636 missing from current font.\n",
            "  font.set_text(s, 0.0, flags=flags)\n",
            "/usr/local/lib/python3.6/dist-packages/matplotlib/backends/backend_agg.py:211: RuntimeWarning: Glyph 51068 missing from current font.\n",
            "  font.set_text(s, 0.0, flags=flags)\n",
            "/usr/local/lib/python3.6/dist-packages/matplotlib/backends/backend_agg.py:180: RuntimeWarning: Glyph 52397 missing from current font.\n",
            "  font.set_text(s, 0, flags=flags)\n",
            "/usr/local/lib/python3.6/dist-packages/matplotlib/backends/backend_agg.py:180: RuntimeWarning: Glyph 44396 missing from current font.\n",
            "  font.set_text(s, 0, flags=flags)\n",
            "/usr/local/lib/python3.6/dist-packages/matplotlib/backends/backend_agg.py:180: RuntimeWarning: Glyph 44592 missing from current font.\n",
            "  font.set_text(s, 0, flags=flags)\n",
            "/usr/local/lib/python3.6/dist-packages/matplotlib/backends/backend_agg.py:180: RuntimeWarning: Glyph 54840 missing from current font.\n",
            "  font.set_text(s, 0, flags=flags)\n",
            "/usr/local/lib/python3.6/dist-packages/matplotlib/backends/backend_agg.py:180: RuntimeWarning: Glyph 45824 missing from current font.\n",
            "  font.set_text(s, 0, flags=flags)\n",
            "/usr/local/lib/python3.6/dist-packages/matplotlib/backends/backend_agg.py:180: RuntimeWarning: Glyph 52636 missing from current font.\n",
            "  font.set_text(s, 0, flags=flags)\n",
            "/usr/local/lib/python3.6/dist-packages/matplotlib/backends/backend_agg.py:180: RuntimeWarning: Glyph 51068 missing from current font.\n",
            "  font.set_text(s, 0, flags=flags)\n"
          ],
          "name": "stderr"
        },
        {
          "output_type": "display_data",
          "data": {
            "image/png": "[encoded data removed]",
            "text/plain": [
              "<Figure size 432x432 with 3 Axes>"
            ]
          },
          "metadata": {
            "tags": [],
            "image/png": {
              "width": 420,
              "height": 443
            }
          }
        }
      ]
    },
    {
      "cell_type": "code",
      "metadata": {
        "id": "9OmYnbGQGHAw",
        "colab": {
          "base_uri": "https://localhost:8080/",
          "height": 969
        },
        "outputId": "2030e059-08a2-49cb-d236-f79e91450234"
      },
      "source": [
        "sns.set_style(\"whitegrid\")\n",
        "sns.jointplot(x=\"청구기호\", y=\"대출일\", data=so_t, kind=\"kde\")\n",
        "plt.suptitle(\"All\", y=1.02)\n",
        "plt.show()"
      ],
      "execution_count": null,
      "outputs": [
        {
          "output_type": "stream",
          "text": [
            "/usr/local/lib/python3.6/dist-packages/matplotlib/backends/backend_agg.py:211: RuntimeWarning: Glyph 52397 missing from current font.\n",
            "  font.set_text(s, 0.0, flags=flags)\n",
            "/usr/local/lib/python3.6/dist-packages/matplotlib/backends/backend_agg.py:211: RuntimeWarning: Glyph 44396 missing from current font.\n",
            "  font.set_text(s, 0.0, flags=flags)\n",
            "/usr/local/lib/python3.6/dist-packages/matplotlib/backends/backend_agg.py:211: RuntimeWarning: Glyph 44592 missing from current font.\n",
            "  font.set_text(s, 0.0, flags=flags)\n",
            "/usr/local/lib/python3.6/dist-packages/matplotlib/backends/backend_agg.py:211: RuntimeWarning: Glyph 54840 missing from current font.\n",
            "  font.set_text(s, 0.0, flags=flags)\n",
            "/usr/local/lib/python3.6/dist-packages/matplotlib/backends/backend_agg.py:211: RuntimeWarning: Glyph 45824 missing from current font.\n",
            "  font.set_text(s, 0.0, flags=flags)\n",
            "/usr/local/lib/python3.6/dist-packages/matplotlib/backends/backend_agg.py:211: RuntimeWarning: Glyph 52636 missing from current font.\n",
            "  font.set_text(s, 0.0, flags=flags)\n",
            "/usr/local/lib/python3.6/dist-packages/matplotlib/backends/backend_agg.py:211: RuntimeWarning: Glyph 51068 missing from current font.\n",
            "  font.set_text(s, 0.0, flags=flags)\n",
            "/usr/local/lib/python3.6/dist-packages/matplotlib/backends/backend_agg.py:180: RuntimeWarning: Glyph 52397 missing from current font.\n",
            "  font.set_text(s, 0, flags=flags)\n",
            "/usr/local/lib/python3.6/dist-packages/matplotlib/backends/backend_agg.py:180: RuntimeWarning: Glyph 44396 missing from current font.\n",
            "  font.set_text(s, 0, flags=flags)\n",
            "/usr/local/lib/python3.6/dist-packages/matplotlib/backends/backend_agg.py:180: RuntimeWarning: Glyph 44592 missing from current font.\n",
            "  font.set_text(s, 0, flags=flags)\n",
            "/usr/local/lib/python3.6/dist-packages/matplotlib/backends/backend_agg.py:180: RuntimeWarning: Glyph 54840 missing from current font.\n",
            "  font.set_text(s, 0, flags=flags)\n",
            "/usr/local/lib/python3.6/dist-packages/matplotlib/backends/backend_agg.py:180: RuntimeWarning: Glyph 45824 missing from current font.\n",
            "  font.set_text(s, 0, flags=flags)\n",
            "/usr/local/lib/python3.6/dist-packages/matplotlib/backends/backend_agg.py:180: RuntimeWarning: Glyph 52636 missing from current font.\n",
            "  font.set_text(s, 0, flags=flags)\n",
            "/usr/local/lib/python3.6/dist-packages/matplotlib/backends/backend_agg.py:180: RuntimeWarning: Glyph 51068 missing from current font.\n",
            "  font.set_text(s, 0, flags=flags)\n"
          ],
          "name": "stderr"
        },
        {
          "output_type": "display_data",
          "data": {
            "image/png": "[encoded data removed]",
            "text/plain": [
              "<Figure size 432x432 with 3 Axes>"
            ]
          },
          "metadata": {
            "tags": [],
            "image/png": {
              "width": 420,
              "height": 443
            }
          }
        }
      ]
    },
    {
      "cell_type": "code",
      "metadata": {
        "id": "bx2cT3S7GG79",
        "colab": {
          "base_uri": "https://localhost:8080/",
          "height": 193
        },
        "outputId": "7d2bb78a-1f89-4717-aa58-fb9332aea76e"
      },
      "source": [
        "so_tt = cso_t.plot(kind='bar', x='청구기호', y='count', title='Rental genre', color=['cornflowerblue', 'lightskyblue','paleturquoise', 'springgreen',  'lightgreen', 'greenyellow','yellow','gold', 'orange', 'coral'], figsize=(12, 4), fontsize=12)"
      ],
      "execution_count": null,
      "outputs": [
        {
          "output_type": "error",
          "ename": "NameError",
          "evalue": "ignored",
          "traceback": [
            "\u001b[0;31m---------------------------------------------------------------------------\u001b[0m",
            "\u001b[0;31mNameError\u001b[0m                                 Traceback (most recent call last)",
            "\u001b[0;32m<ipython-input-49-740a54ba1be6>\u001b[0m in \u001b[0;36m<module>\u001b[0;34m()\u001b[0m\n\u001b[0;32m----> 1\u001b[0;31m \u001b[0mso_tt\u001b[0m \u001b[0;34m=\u001b[0m \u001b[0mcso_t\u001b[0m\u001b[0;34m.\u001b[0m\u001b[0mplot\u001b[0m\u001b[0;34m(\u001b[0m\u001b[0mkind\u001b[0m\u001b[0;34m=\u001b[0m\u001b[0;34m'bar'\u001b[0m\u001b[0;34m,\u001b[0m \u001b[0mx\u001b[0m\u001b[0;34m=\u001b[0m\u001b[0;34m'청구기호'\u001b[0m\u001b[0;34m,\u001b[0m \u001b[0my\u001b[0m\u001b[0;34m=\u001b[0m\u001b[0;34m'count'\u001b[0m\u001b[0;34m,\u001b[0m \u001b[0mtitle\u001b[0m\u001b[0;34m=\u001b[0m\u001b[0;34m'Rental genre'\u001b[0m\u001b[0;34m,\u001b[0m \u001b[0mcolor\u001b[0m\u001b[0;34m=\u001b[0m\u001b[0;34m[\u001b[0m\u001b[0;34m'cornflowerblue'\u001b[0m\u001b[0;34m,\u001b[0m \u001b[0;34m'lightskyblue'\u001b[0m\u001b[0;34m,\u001b[0m\u001b[0;34m'paleturquoise'\u001b[0m\u001b[0;34m,\u001b[0m \u001b[0;34m'springgreen'\u001b[0m\u001b[0;34m,\u001b[0m  \u001b[0;34m'lightgreen'\u001b[0m\u001b[0;34m,\u001b[0m \u001b[0;34m'greenyellow'\u001b[0m\u001b[0;34m,\u001b[0m\u001b[0;34m'yellow'\u001b[0m\u001b[0;34m,\u001b[0m\u001b[0;34m'gold'\u001b[0m\u001b[0;34m,\u001b[0m \u001b[0;34m'orange'\u001b[0m\u001b[0;34m,\u001b[0m \u001b[0;34m'coral'\u001b[0m\u001b[0;34m]\u001b[0m\u001b[0;34m,\u001b[0m \u001b[0mfigsize\u001b[0m\u001b[0;34m=\u001b[0m\u001b[0;34m(\u001b[0m\u001b[0;36m12\u001b[0m\u001b[0;34m,\u001b[0m \u001b[0;36m4\u001b[0m\u001b[0;34m)\u001b[0m\u001b[0;34m,\u001b[0m \u001b[0mfontsize\u001b[0m\u001b[0;34m=\u001b[0m\u001b[0;36m12\u001b[0m\u001b[0;34m)\u001b[0m\u001b[0;34m\u001b[0m\u001b[0;34m\u001b[0m\u001b[0m\n\u001b[0m",
            "\u001b[0;31mNameError\u001b[0m: name 'cso_t' is not defined"
          ]
        }
      ]
    },
    {
      "cell_type": "code",
      "metadata": {
        "id": "SOHCsvx6aN4F",
        "colab": {
          "base_uri": "https://localhost:8080/",
          "height": 407
        },
        "outputId": "a707a426-07ef-4ae6-f3ed-05849049366a"
      },
      "source": [
        "dso_t"
      ],
      "execution_count": null,
      "outputs": [
        {
          "output_type": "execute_result",
          "data": {
            "text/html": [
              "<div>\n",
              "<style scoped>\n",
              "    .dataframe tbody tr th:only-of-type {\n",
              "        vertical-align: middle;\n",
              "    }\n",
              "\n",
              "    .dataframe tbody tr th {\n",
              "        vertical-align: top;\n",
              "    }\n",
              "\n",
              "    .dataframe thead th {\n",
              "        text-align: right;\n",
              "    }\n",
              "</style>\n",
              "<table border=\"1\" class=\"dataframe\">\n",
              "  <thead>\n",
              "    <tr style=\"text-align: right;\">\n",
              "      <th></th>\n",
              "      <th>index</th>\n",
              "      <th>청구기호</th>\n",
              "      <th>대출일</th>\n",
              "    </tr>\n",
              "  </thead>\n",
              "  <tbody>\n",
              "    <tr>\n",
              "      <th>0</th>\n",
              "      <td>1977</td>\n",
              "      <td>600</td>\n",
              "      <td>8</td>\n",
              "    </tr>\n",
              "    <tr>\n",
              "      <th>1</th>\n",
              "      <td>1978</td>\n",
              "      <td>900</td>\n",
              "      <td>12</td>\n",
              "    </tr>\n",
              "    <tr>\n",
              "      <th>2</th>\n",
              "      <td>1979</td>\n",
              "      <td>800</td>\n",
              "      <td>9</td>\n",
              "    </tr>\n",
              "    <tr>\n",
              "      <th>3</th>\n",
              "      <td>1980</td>\n",
              "      <td>800</td>\n",
              "      <td>7</td>\n",
              "    </tr>\n",
              "    <tr>\n",
              "      <th>4</th>\n",
              "      <td>1981</td>\n",
              "      <td>600</td>\n",
              "      <td>9</td>\n",
              "    </tr>\n",
              "    <tr>\n",
              "      <th>...</th>\n",
              "      <td>...</td>\n",
              "      <td>...</td>\n",
              "      <td>...</td>\n",
              "    </tr>\n",
              "    <tr>\n",
              "      <th>17511</th>\n",
              "      <td>27588</td>\n",
              "      <td>300</td>\n",
              "      <td>7</td>\n",
              "    </tr>\n",
              "    <tr>\n",
              "      <th>17512</th>\n",
              "      <td>27589</td>\n",
              "      <td>400</td>\n",
              "      <td>9</td>\n",
              "    </tr>\n",
              "    <tr>\n",
              "      <th>17513</th>\n",
              "      <td>27590</td>\n",
              "      <td>400</td>\n",
              "      <td>9</td>\n",
              "    </tr>\n",
              "    <tr>\n",
              "      <th>17514</th>\n",
              "      <td>27591</td>\n",
              "      <td>300</td>\n",
              "      <td>9</td>\n",
              "    </tr>\n",
              "    <tr>\n",
              "      <th>17515</th>\n",
              "      <td>27592</td>\n",
              "      <td>600</td>\n",
              "      <td>9</td>\n",
              "    </tr>\n",
              "  </tbody>\n",
              "</table>\n",
              "<p>17516 rows × 3 columns</p>\n",
              "</div>"
            ],
            "text/plain": [
              "       index  청구기호  대출일\n",
              "0       1977   600    8\n",
              "1       1978   900   12\n",
              "2       1979   800    9\n",
              "3       1980   800    7\n",
              "4       1981   600    9\n",
              "...      ...   ...  ...\n",
              "17511  27588   300    7\n",
              "17512  27589   400    9\n",
              "17513  27590   400    9\n",
              "17514  27591   300    9\n",
              "17515  27592   600    9\n",
              "\n",
              "[17516 rows x 3 columns]"
            ]
          },
          "metadata": {
            "tags": []
          },
          "execution_count": 50
        }
      ]
    },
    {
      "cell_type": "code",
      "metadata": {
        "id": "-m2DykkZa6mP",
        "colab": {
          "base_uri": "https://localhost:8080/",
          "height": 217
        },
        "outputId": "744a2788-e55e-47c5-b97b-f76d4ab2479c"
      },
      "source": [
        "dso_tt = so_t.groupby(['대출일', '청구기호']).size().reset_index()\n",
        "print(dso_tt[dso_tt.대출일 == '12'])"
      ],
      "execution_count": null,
      "outputs": [
        {
          "output_type": "stream",
          "text": [
            "    대출일 청구기호    0\n",
            "110  12  000   10\n",
            "111  12  100   42\n",
            "112  12  200   23\n",
            "113  12  300   66\n",
            "114  12  400   81\n",
            "115  12  500   48\n",
            "116  12  600  103\n",
            "117  12  700   54\n",
            "118  12  800  195\n",
            "119  12  900   36\n"
          ],
          "name": "stdout"
        }
      ]
    },
    {
      "cell_type": "markdown",
      "metadata": {
        "id": "-k9FRZJLPY52"
      },
      "source": [
        "### 요약"
      ]
    },
    {
      "cell_type": "code",
      "metadata": {
        "id": "3V2DdmQMSaPR",
        "colab": {
          "base_uri": "https://localhost:8080/",
          "height": 245
        },
        "outputId": "42bcfc42-4cec-43a6-a0a8-9016579d1b2f"
      },
      "source": [
        "sizes = cso_t['count']\n",
        "colors = ['cornflowerblue', 'lightskyblue','paleturquoise', 'springgreen',  'lightgreen', 'greenyellow','yellow','gold', 'orange', 'coral']\n",
        "explode = cso_t['count']\n",
        "plt.title(\"Rental genre\")\n",
        "plt.pie(sizes , labels=cso_t['청구기호'], colors=colors, autopct='%1.1f%%', shadow=True, startangle=90)\n",
        "plt.axis('equal')\n",
        "plt.show()"
      ],
      "execution_count": null,
      "outputs": [
        {
          "output_type": "error",
          "ename": "NameError",
          "evalue": "ignored",
          "traceback": [
            "\u001b[0;31m---------------------------------------------------------------------------\u001b[0m",
            "\u001b[0;31mNameError\u001b[0m                                 Traceback (most recent call last)",
            "\u001b[0;32m<ipython-input-52-7edbf5f53772>\u001b[0m in \u001b[0;36m<module>\u001b[0;34m()\u001b[0m\n\u001b[0;32m----> 1\u001b[0;31m \u001b[0msizes\u001b[0m \u001b[0;34m=\u001b[0m \u001b[0mcso_t\u001b[0m\u001b[0;34m[\u001b[0m\u001b[0;34m'count'\u001b[0m\u001b[0;34m]\u001b[0m\u001b[0;34m\u001b[0m\u001b[0;34m\u001b[0m\u001b[0m\n\u001b[0m\u001b[1;32m      2\u001b[0m \u001b[0mcolors\u001b[0m \u001b[0;34m=\u001b[0m \u001b[0;34m[\u001b[0m\u001b[0;34m'cornflowerblue'\u001b[0m\u001b[0;34m,\u001b[0m \u001b[0;34m'lightskyblue'\u001b[0m\u001b[0;34m,\u001b[0m\u001b[0;34m'paleturquoise'\u001b[0m\u001b[0;34m,\u001b[0m \u001b[0;34m'springgreen'\u001b[0m\u001b[0;34m,\u001b[0m  \u001b[0;34m'lightgreen'\u001b[0m\u001b[0;34m,\u001b[0m \u001b[0;34m'greenyellow'\u001b[0m\u001b[0;34m,\u001b[0m\u001b[0;34m'yellow'\u001b[0m\u001b[0;34m,\u001b[0m\u001b[0;34m'gold'\u001b[0m\u001b[0;34m,\u001b[0m \u001b[0;34m'orange'\u001b[0m\u001b[0;34m,\u001b[0m \u001b[0;34m'coral'\u001b[0m\u001b[0;34m]\u001b[0m\u001b[0;34m\u001b[0m\u001b[0;34m\u001b[0m\u001b[0m\n\u001b[1;32m      3\u001b[0m \u001b[0mexplode\u001b[0m \u001b[0;34m=\u001b[0m \u001b[0mcso_t\u001b[0m\u001b[0;34m[\u001b[0m\u001b[0;34m'count'\u001b[0m\u001b[0;34m]\u001b[0m\u001b[0;34m\u001b[0m\u001b[0;34m\u001b[0m\u001b[0m\n\u001b[1;32m      4\u001b[0m \u001b[0mplt\u001b[0m\u001b[0;34m.\u001b[0m\u001b[0mtitle\u001b[0m\u001b[0;34m(\u001b[0m\u001b[0;34m\"Rental genre\"\u001b[0m\u001b[0;34m)\u001b[0m\u001b[0;34m\u001b[0m\u001b[0;34m\u001b[0m\u001b[0m\n\u001b[1;32m      5\u001b[0m \u001b[0mplt\u001b[0m\u001b[0;34m.\u001b[0m\u001b[0mpie\u001b[0m\u001b[0;34m(\u001b[0m\u001b[0msizes\u001b[0m \u001b[0;34m,\u001b[0m \u001b[0mlabels\u001b[0m\u001b[0;34m=\u001b[0m\u001b[0mcso_t\u001b[0m\u001b[0;34m[\u001b[0m\u001b[0;34m'청구기호'\u001b[0m\u001b[0;34m]\u001b[0m\u001b[0;34m,\u001b[0m \u001b[0mcolors\u001b[0m\u001b[0;34m=\u001b[0m\u001b[0mcolors\u001b[0m\u001b[0;34m,\u001b[0m \u001b[0mautopct\u001b[0m\u001b[0;34m=\u001b[0m\u001b[0;34m'%1.1f%%'\u001b[0m\u001b[0;34m,\u001b[0m \u001b[0mshadow\u001b[0m\u001b[0;34m=\u001b[0m\u001b[0;32mTrue\u001b[0m\u001b[0;34m,\u001b[0m \u001b[0mstartangle\u001b[0m\u001b[0;34m=\u001b[0m\u001b[0;36m90\u001b[0m\u001b[0;34m)\u001b[0m\u001b[0;34m\u001b[0m\u001b[0;34m\u001b[0m\u001b[0m\n",
            "\u001b[0;31mNameError\u001b[0m: name 'cso_t' is not defined"
          ]
        }
      ]
    },
    {
      "cell_type": "markdown",
      "metadata": {
        "id": "gosSQtKpPa3N"
      },
      "source": [
        "> 선호 장르\n",
        "\n",
        "    1위 800(30.85%) : 문학\n",
        "    2위 300(16.06%) : 사회학\n",
        "    3위 600(10.71%) : 기술과학\n",
        "    4위 100(8.62%) : 철학\n",
        "    5위 900(8.21%) : 역사\n",
        "\n",
        "> 대출월별 청구기호\n",
        "\n",
        "    1월 800(115) > 600(35) > 300(31) > 400(27)\n",
        "    2월 800(78) > 300(46) > 300(37) > 100(24)\n",
        "    3월 800(524) > 300(325) > 500(204) > 900(183)\n",
        "    4월 800(404) > 300(251) > 600(146) > 900(141)\n",
        "    5월 800(423) > 300(245) > 600(138) > 100, 900(137)\n",
        "    6월 800(556) > 300(256) > 600(186) > 100(169)\n",
        "    7월 800(522) > 600(186) > 300(167) > 100(131)\n",
        "    8월 800(357) > 300(235) > 600(151) > 900(136)\n",
        "    9월 800(1415) > 300(907) > 600(499) > 100(404)\n",
        "    10월 800(348) > 300(123) > 600(122) > 900(92)\n",
        "    11월 800(466) > 300(161) > 900(113) > 600(104)\n",
        "    12월 800(195) > 600(103) > 400(81) > 300(66)\n"
      ]
    }
  ]
}