{
  "nbformat": 4,
  "nbformat_minor": 0,
  "metadata": {
    "colab": {
      "name": "By_University.ipynb",
      "provenance": [],
      "collapsed_sections": [
        "En9T7OUz9llx",
        "C00XwMcG94aX",
        "GUzDsegX-ANS",
        "F8zbr8C6-HWz",
        "YDQIVOgg_Egh",
        "7jn6Z6Um_kDx",
        "wI8RIdm5ABkD",
        "61N3US15Amgt",
        "ONpaASshA97t",
        "ITj9Xj6yBLps",
        "LPaPJnPoB-ia",
        "KYF47ZvIsugL",
        "lb8x0NKFC3qn",
        "CzC6OvzBmKU0",
        "fPCK3lg8mTN5"
      ],
      "toc_visible": true,
      "include_colab_link": true
    },
    "kernelspec": {
      "name": "python3",
      "display_name": "Python 3"
    }
  },
  "cells": [
    {
      "cell_type": "markdown",
      "metadata": {
        "id": "view-in-github",
        "colab_type": "text"
      },
      "source": [
        "<a href=\"https://colab.research.google.com/github/cho52o/library_project2019/blob/main/By_University.ipynb\" target=\"_parent\"><img src=\"https://colab.research.google.com/assets/colab-badge.svg\" alt=\"Open In Colab\"/></a>"
      ]
    },
    {
      "cell_type": "code",
      "metadata": {
        "id": "98mV5ueVpjjX"
      },
      "source": [
        "import numpy as np\n",
        "import pandas as pd"
      ],
      "execution_count": null,
      "outputs": []
    },
    {
      "cell_type": "code",
      "metadata": {
        "id": "pKwK8EOd5uKF",
        "colab": {
          "base_uri": "https://localhost:8080/",
          "height": 127
        },
        "outputId": "cf672639-2149-4489-d9aa-d37f1da23e51"
      },
      "source": [
        "from google.colab import drive\n",
        "drive.mount('/content/drive')"
      ],
      "execution_count": null,
      "outputs": [
        {
          "output_type": "stream",
          "text": [
            "Go to this URL in a browser: https://accounts.google.com/o/oauth2/auth?client_id=947318989803-6bn6qk8qdgf4n4g3pfee6491hc0brc4i.apps.googleusercontent.com&redirect_uri=urn%3Aietf%3Awg%3Aoauth%3A2.0%3Aoob&scope=email%20https%3A%2F%2Fwww.googleapis.com%2Fauth%2Fdocs.test%20https%3A%2F%2Fwww.googleapis.com%2Fauth%2Fdrive%20https%3A%2F%2Fwww.googleapis.com%2Fauth%2Fdrive.photos.readonly%20https%3A%2F%2Fwww.googleapis.com%2Fauth%2Fpeopleapi.readonly&response_type=code\n",
            "\n",
            "Enter your authorization code:\n",
            "··········\n",
            "Mounted at /content/drive\n"
          ],
          "name": "stdout"
        }
      ]
    },
    {
      "cell_type": "code",
      "metadata": {
        "id": "9bnqoocb51_6"
      },
      "source": [
        "# 일단 import \n",
        "%matplotlib inline  \n",
        "import matplotlib\n",
        "import matplotlib as mpl  # 기본 설정 만지는 용도\n",
        "import matplotlib.pyplot as plt  # 그래프 그리는 용도\n",
        "import matplotlib.font_manager as fm  # 폰트 관련 용도\n",
        "import numpy as np, pandas as pd; np.random.seed(0)\n",
        "import seaborn as sns; sns.set(style=\"white\", color_codes=True)"
      ],
      "execution_count": null,
      "outputs": []
    },
    {
      "cell_type": "code",
      "metadata": {
        "id": "oqw0vMkd5_Sl",
        "colab": {
          "base_uri": "https://localhost:8080/",
          "height": 35
        },
        "outputId": "08b615bc-64d0-49ad-ede4-fcdd028955be"
      },
      "source": [
        "print(\"Matplotlib version\", matplotlib.__version__)\n",
        "%matplotlib inline\n",
        "%config InlineBackend.figure_format = 'retina'"
      ],
      "execution_count": null,
      "outputs": [
        {
          "output_type": "stream",
          "text": [
            "Matplotlib version 3.1.1\n"
          ],
          "name": "stdout"
        }
      ]
    },
    {
      "cell_type": "code",
      "metadata": {
        "id": "dNTJWK13YgyG",
        "colab": {
          "base_uri": "https://localhost:8080/",
          "height": 341
        },
        "outputId": "8dd5fa3f-ac1c-45f4-cdd6-80a7e1ba222f"
      },
      "source": [
        "!apt-get update -qq\n",
        "!apt-get install fonts-nanum* -qq"
      ],
      "execution_count": null,
      "outputs": [
        {
          "output_type": "stream",
          "text": [
            "Selecting previously unselected package fonts-nanum.\n",
            "(Reading database ... 132681 files and directories currently installed.)\n",
            "Preparing to unpack .../fonts-nanum_20170925-1_all.deb ...\n",
            "Unpacking fonts-nanum (20170925-1) ...\n",
            "Selecting previously unselected package fonts-nanum-eco.\n",
            "Preparing to unpack .../fonts-nanum-eco_1.000-6_all.deb ...\n",
            "Unpacking fonts-nanum-eco (1.000-6) ...\n",
            "Selecting previously unselected package fonts-nanum-extra.\n",
            "Preparing to unpack .../fonts-nanum-extra_20170925-1_all.deb ...\n",
            "Unpacking fonts-nanum-extra (20170925-1) ...\n",
            "Selecting previously unselected package fonts-nanum-coding.\n",
            "Preparing to unpack .../fonts-nanum-coding_2.5-1_all.deb ...\n",
            "Unpacking fonts-nanum-coding (2.5-1) ...\n",
            "Setting up fonts-nanum-extra (20170925-1) ...\n",
            "Setting up fonts-nanum (20170925-1) ...\n",
            "Setting up fonts-nanum-coding (2.5-1) ...\n",
            "Setting up fonts-nanum-eco (1.000-6) ...\n",
            "Processing triggers for fontconfig (2.12.6-0ubuntu2) ...\n"
          ],
          "name": "stdout"
        }
      ]
    },
    {
      "cell_type": "code",
      "metadata": {
        "id": "z15tuU1e6R-6",
        "colab": {
          "base_uri": "https://localhost:8080/",
          "height": 35
        },
        "outputId": "f63f9834-40cb-41a3-c176-13457160a468"
      },
      "source": [
        "path = '/usr/share/fonts/truetype/nanum/NanumGothicEco.ttf'  # 설치된 나눔글꼴중 원하는 녀석의 전체 경로를 가져오자\n",
        "font_name = fm.FontProperties(fname=path, size=10).get_name()\n",
        "print(font_name)\n",
        "plt.rc('font', family=font_name)\n",
        "fm._rebuild()\n",
        "mpl.rcParams['axes.unicode_minus'] = False"
      ],
      "execution_count": null,
      "outputs": [
        {
          "output_type": "stream",
          "text": [
            "NanumGothic Eco\n"
          ],
          "name": "stdout"
        }
      ]
    },
    {
      "cell_type": "code",
      "metadata": {
        "id": "Bccq3B79HoMQ"
      },
      "source": [
        "so = pd.read_csv('/content/drive/My Drive/소통형도서관_프로젝트/자료/대출목록.csv')\n",
        "best = pd.read_csv('/content/drive/My Drive/소통형도서관_프로젝트/자료/베스트_이용도서.csv')"
      ],
      "execution_count": null,
      "outputs": []
    },
    {
      "cell_type": "markdown",
      "metadata": {
        "id": "En9T7OUz9llx"
      },
      "source": [
        "#지난 2018-06-01 ~ 2019-09-30 까지의 대출데이터"
      ]
    },
    {
      "cell_type": "code",
      "metadata": {
        "id": "5m0ZKuezf4ml",
        "colab": {
          "base_uri": "https://localhost:8080/",
          "height": 173
        },
        "outputId": "415cb031-24a3-4e7d-abe2-b206d3ebcd5e"
      },
      "source": [
        "so.head(4)"
      ],
      "execution_count": null,
      "outputs": [
        {
          "output_type": "execute_result",
          "data": {
            "text/html": [
              "<div>\n",
              "<style scoped>\n",
              "    .dataframe tbody tr th:only-of-type {\n",
              "        vertical-align: middle;\n",
              "    }\n",
              "\n",
              "    .dataframe tbody tr th {\n",
              "        vertical-align: top;\n",
              "    }\n",
              "\n",
              "    .dataframe thead th {\n",
              "        text-align: right;\n",
              "    }\n",
              "</style>\n",
              "<table border=\"1\" class=\"dataframe\">\n",
              "  <thead>\n",
              "    <tr style=\"text-align: right;\">\n",
              "      <th></th>\n",
              "      <th>학과</th>\n",
              "      <th>등록번호</th>\n",
              "      <th>청구기호</th>\n",
              "      <th>서명</th>\n",
              "      <th>저자</th>\n",
              "      <th>대출일</th>\n",
              "    </tr>\n",
              "  </thead>\n",
              "  <tbody>\n",
              "    <tr>\n",
              "      <th>0</th>\n",
              "      <td>간호학과</td>\n",
              "      <td>569943</td>\n",
              "      <td>158.2 하69ㅍKㄱ</td>\n",
              "      <td>대화기술: 생각을 전하고 마음을 사로잡는 기술</td>\n",
              "      <td>하이브로 무사시</td>\n",
              "      <td>20180710</td>\n",
              "    </tr>\n",
              "    <tr>\n",
              "      <th>1</th>\n",
              "      <td>간호학과</td>\n",
              "      <td>594738</td>\n",
              "      <td>910.41 한49ㅂ 2007</td>\n",
              "      <td>바람의 딸 걸어서 지구 세바퀴 반</td>\n",
              "      <td>한비야</td>\n",
              "      <td>20180801</td>\n",
              "    </tr>\n",
              "    <tr>\n",
              "      <th>2</th>\n",
              "      <td>간호학과</td>\n",
              "      <td>587517</td>\n",
              "      <td>181.2184 맹71시</td>\n",
              "      <td>孟子論</td>\n",
              "      <td>신동준</td>\n",
              "      <td>20180601</td>\n",
              "    </tr>\n",
              "    <tr>\n",
              "      <th>3</th>\n",
              "      <td>간호학과</td>\n",
              "      <td>604495</td>\n",
              "      <td>320.1 M149pKㅅ</td>\n",
              "      <td>(가장 정직한 정치 교과서) 군주론</td>\n",
              "      <td>신재일</td>\n",
              "      <td>20180604</td>\n",
              "    </tr>\n",
              "  </tbody>\n",
              "</table>\n",
              "</div>"
            ],
            "text/plain": [
              "     학과    등록번호  ...        저자       대출일\n",
              "0  간호학과  569943  ...  하이브로 무사시  20180710\n",
              "1  간호학과  594738  ...       한비야  20180801\n",
              "2  간호학과  587517  ...       신동준  20180601\n",
              "3  간호학과  604495  ...       신재일  20180604\n",
              "\n",
              "[4 rows x 6 columns]"
            ]
          },
          "metadata": {
            "tags": []
          },
          "execution_count": 8
        }
      ]
    },
    {
      "cell_type": "code",
      "metadata": {
        "id": "nVG9Rmfk8IVk"
      },
      "source": [
        "so_1 = so.iloc[:, :]\n",
        "so_2 = so.loc[:,['학과','청구기호','서명','대출일']]"
      ],
      "execution_count": null,
      "outputs": []
    },
    {
      "cell_type": "markdown",
      "metadata": {
        "id": "C00XwMcG94aX"
      },
      "source": [
        "##공과대학 대여권수"
      ]
    },
    {
      "cell_type": "code",
      "metadata": {
        "id": "dScxbldk8MWW",
        "colab": {
          "base_uri": "https://localhost:8080/",
          "height": 35
        },
        "outputId": "c11f39a0-f6da-4659-f7f6-7fdc4f71f33d"
      },
      "source": [
        "so_eg = so_2[so_2['학과'].isin(['산업경영공학과','컴퓨터공학과','정보통신공학과','멀티미디어공학전공','멀티미디어학부','멀티미디어영상전공',\n",
        "                                   '토목·건축공학부','미디어영상전공','전기전자공학과' ,'건축공학전공',\n",
        "                                   '토목환경공학전공','기계공학과','화학공학과','컴퓨터무인통신기술학과'])]\n",
        "\n",
        "#신규인'신소재공학과','스마트융합공학부'제외 , 재학생이 없을것으로 판단 '공학교육 혁신센터 제외'\n",
        "so_eg.shape"
      ],
      "execution_count": null,
      "outputs": [
        {
          "output_type": "execute_result",
          "data": {
            "text/plain": [
              "(1344, 4)"
            ]
          },
          "metadata": {
            "tags": []
          },
          "execution_count": 10
        }
      ]
    },
    {
      "cell_type": "markdown",
      "metadata": {
        "id": "GUzDsegX-ANS"
      },
      "source": [
        "##사범대학 대여권수"
      ]
    },
    {
      "cell_type": "code",
      "metadata": {
        "id": "EvWx2LFo83g4",
        "colab": {
          "base_uri": "https://localhost:8080/",
          "height": 35
        },
        "outputId": "efc721f0-aa50-4a44-ae7c-85a745142d4a"
      },
      "source": [
        "so_edu = so_2[so_2['학과'].isin(['국어교육과','영어교육과','교육학과','역사교육과','미술교육과','수학교육과'])]\n",
        "#교육연수원, 교직부 제외\n",
        "so_edu.shape"
      ],
      "execution_count": null,
      "outputs": [
        {
          "output_type": "execute_result",
          "data": {
            "text/plain": [
              "(2976, 4)"
            ]
          },
          "metadata": {
            "tags": []
          },
          "execution_count": 11
        }
      ]
    },
    {
      "cell_type": "markdown",
      "metadata": {
        "id": "F8zbr8C6-HWz"
      },
      "source": [
        "##문과대학 대여권수"
      ]
    },
    {
      "cell_type": "code",
      "metadata": {
        "id": "_GQAmKxN-EUS",
        "colab": {
          "base_uri": "https://localhost:8080/",
          "height": 35
        },
        "outputId": "6d8b192e-21b9-4df1-94f8-32ef8a94815e"
      },
      "source": [
        "so_la =  so_2[so_2['학과'].isin(['국어국문·창작학과','영어영문학과','외국어문학부','일어일문학전공','프랑스어문학전공',\n",
        "                                    '문헌정보학과','사학과','기독교학과','인문학부 철학상담학전공','일본·프랑스어문학과'])]\n",
        "so_la.shape"
      ],
      "execution_count": null,
      "outputs": [
        {
          "output_type": "execute_result",
          "data": {
            "text/plain": [
              "(4758, 4)"
            ]
          },
          "metadata": {
            "tags": []
          },
          "execution_count": 12
        }
      ]
    },
    {
      "cell_type": "markdown",
      "metadata": {
        "id": "YDQIVOgg_Egh"
      },
      "source": [
        "##경상대학 대여권수"
      ]
    },
    {
      "cell_type": "code",
      "metadata": {
        "id": "IqN33mf3-JFG",
        "colab": {
          "base_uri": "https://localhost:8080/",
          "height": 35
        },
        "outputId": "146fed2f-f31d-4eac-bbc6-15c653614d23"
      },
      "source": [
        "so_ec =  so_2[so_2['학과'].isin(['경영학과','회계학과','무역학과','경제학부','경제학전공',\n",
        "                                    '중국경제통상학전공','컨벤션호텔경영학과','비즈니스통계학과'])]\n",
        "#방촌국제화 훈련단 제외\n",
        "so_ec.shape"
      ],
      "execution_count": null,
      "outputs": [
        {
          "output_type": "execute_result",
          "data": {
            "text/plain": [
              "(2395, 4)"
            ]
          },
          "metadata": {
            "tags": []
          },
          "execution_count": 13
        }
      ]
    },
    {
      "cell_type": "markdown",
      "metadata": {
        "id": "7jn6Z6Um_kDx"
      },
      "source": [
        "##법정대학 대여권수"
      ]
    },
    {
      "cell_type": "code",
      "metadata": {
        "id": "0mYyT4RX_iIc",
        "colab": {
          "base_uri": "https://localhost:8080/",
          "height": 35
        },
        "outputId": "ca6b45d4-4bae-4095-d099-9bf28d728607"
      },
      "source": [
        "so_ss =  so_2[so_2['학과'].isin(['법학부','행정·경찰학부' '행정학전공','경찰학전공 모집전공','정치·언론학과' ,'사회복지학과','아동복지학과','도시부동산학과'])]\n",
        "so_ss.shape"
      ],
      "execution_count": null,
      "outputs": [
        {
          "output_type": "execute_result",
          "data": {
            "text/plain": [
              "(1778, 4)"
            ]
          },
          "metadata": {
            "tags": []
          },
          "execution_count": 14
        }
      ]
    },
    {
      "cell_type": "markdown",
      "metadata": {
        "id": "wI8RIdm5ABkD"
      },
      "source": [
        "##생명나노과학대학 대여권수"
      ]
    },
    {
      "cell_type": "code",
      "metadata": {
        "id": "IRqjIOet_8AU",
        "colab": {
          "base_uri": "https://localhost:8080/",
          "height": 35
        },
        "outputId": "92a1977a-51c7-4231-b086-805eec633cb9"
      },
      "source": [
        "so_ls =  so_2[so_2['학과'].isin(['생명시스템과학과' ,'식품영양학과','화학과' ,'수학과','간호학과','스포츠과학과','화공신소재공학과'])]\n",
        "so_ls.shape"
      ],
      "execution_count": null,
      "outputs": [
        {
          "output_type": "execute_result",
          "data": {
            "text/plain": [
              "(2525, 4)"
            ]
          },
          "metadata": {
            "tags": []
          },
          "execution_count": 15
        }
      ]
    },
    {
      "cell_type": "markdown",
      "metadata": {
        "id": "61N3US15Amgt"
      },
      "source": [
        "##사회적경제융합대학 대여권수"
      ]
    },
    {
      "cell_type": "code",
      "metadata": {
        "id": "gXPizqiaAduu",
        "colab": {
          "base_uri": "https://localhost:8080/",
          "height": 35
        },
        "outputId": "444125ea-cba5-4ed4-fb07-97cf9fda835c"
      },
      "source": [
        "so_se =  so_2[so_2['학과'].isin(['사회복지학과','아동복지학과'])]\n",
        "                               \n",
        "#상담심리학과 , 사회적경제기업학과 , 빅데이터응용학과 신규 생성학과 제외\n",
        "so_se.shape"
      ],
      "execution_count": null,
      "outputs": [
        {
          "output_type": "execute_result",
          "data": {
            "text/plain": [
              "(820, 4)"
            ]
          },
          "metadata": {
            "tags": []
          },
          "execution_count": 16
        }
      ]
    },
    {
      "cell_type": "markdown",
      "metadata": {
        "id": "ONpaASshA97t"
      },
      "source": [
        "##린튼글로벌비지니스 대여권수"
      ]
    },
    {
      "cell_type": "code",
      "metadata": {
        "id": "pZa8Ac5qA8VI",
        "colab": {
          "base_uri": "https://localhost:8080/",
          "height": 179
        },
        "outputId": "e3be4913-ced2-4f9b-c483-22f14546fd1d"
      },
      "source": [
        "so_gb =  so_2[so_2['학과'].isin(['글로벌비즈니스전공','글로벌IT경영전공'])]\n",
        "so_gb.info()"
      ],
      "execution_count": null,
      "outputs": [
        {
          "output_type": "stream",
          "text": [
            "<class 'pandas.core.frame.DataFrame'>\n",
            "Int64Index: 0 entries\n",
            "Data columns (total 4 columns):\n",
            "학과      0 non-null object\n",
            "청구기호    0 non-null object\n",
            "서명      0 non-null object\n",
            "대출일     0 non-null object\n",
            "dtypes: object(4)\n",
            "memory usage: 0.0+ bytes\n"
          ],
          "name": "stdout"
        }
      ]
    },
    {
      "cell_type": "markdown",
      "metadata": {
        "id": "ITj9Xj6yBLps"
      },
      "source": [
        "##조형예술학부 대여권수"
      ]
    },
    {
      "cell_type": "code",
      "metadata": {
        "id": "wUg8IZVOBK-Z",
        "colab": {
          "base_uri": "https://localhost:8080/",
          "height": 35
        },
        "outputId": "c2840d85-3dfc-4e5a-c544-9ebd46d1ea09"
      },
      "source": [
        "so_art =  so_2[so_2['학과'].isin(['조형예술학부','융합디자인전공','회화전공','의류학전공'])]\n",
        "so_art.shape"
      ],
      "execution_count": null,
      "outputs": [
        {
          "output_type": "execute_result",
          "data": {
            "text/plain": [
              "(860, 4)"
            ]
          },
          "metadata": {
            "tags": []
          },
          "execution_count": 18
        }
      ]
    },
    {
      "cell_type": "markdown",
      "metadata": {
        "id": "LPaPJnPoB-ia"
      },
      "source": [
        "##자유전공학부 대여권수"
      ]
    },
    {
      "cell_type": "code",
      "metadata": {
        "id": "gr1IjUuhB7fi",
        "colab": {
          "base_uri": "https://localhost:8080/",
          "height": 35
        },
        "outputId": "5836d4c2-7872-4c85-da58-a8abf2ae1e62"
      },
      "source": [
        "so_free =  so_2[so_2['학과'].isin(['자유전공학부'])]\n",
        "so_free.shape"
      ],
      "execution_count": null,
      "outputs": [
        {
          "output_type": "execute_result",
          "data": {
            "text/plain": [
              "(60, 4)"
            ]
          },
          "metadata": {
            "tags": []
          },
          "execution_count": 19
        }
      ]
    },
    {
      "cell_type": "markdown",
      "metadata": {
        "id": "KYF47ZvIsugL"
      },
      "source": [
        "## 대학별 정리"
      ]
    },
    {
      "cell_type": "markdown",
      "metadata": {
        "id": "dhYsY6RADt9q"
      },
      "source": [
        "1)so_eg #공과대\n",
        "\n",
        "2)so_edu #사범대\n",
        "\n",
        "3)so_la #문과대\n",
        "\n",
        "4)so_ec #경상대학\n",
        "\n",
        "5)so_ss #법정대학\n",
        "\n",
        "6)so_ls #생명나노대학\n",
        "\n",
        "7)so_se #사회적경제융합대학\n",
        "\n",
        "8)so_gb #린튼글로벌비지니스 - 값이 없음 \n",
        "\n",
        "9)so_art #조형예술학부\n",
        "\n",
        "10)so_free #자유전공학부\n"
      ]
    },
    {
      "cell_type": "markdown",
      "metadata": {
        "id": "lb8x0NKFC3qn"
      },
      "source": [
        "### 데이터 정리"
      ]
    },
    {
      "cell_type": "code",
      "metadata": {
        "id": "xhqw4yzxvLSn",
        "colab": {
          "base_uri": "https://localhost:8080/",
          "height": 145
        },
        "outputId": "0f442f7d-9cf7-42fc-ea4e-ce5d684ea6e4"
      },
      "source": [
        "so_eg.청구기호 = so_eg.청구기호.str.slice(0, 3)\n",
        "so_eg.대출일 = so_eg.대출일.str.slice(4, 6)\n",
        "so_edu.청구기호 = so_edu.청구기호.str.slice(0, 3)\n",
        "so_edu.대출일 = so_edu.대출일.str.slice(4, 6)\n",
        "so_la.청구기호 = so_la.청구기호.str.slice(0, 3)\n",
        "so_la.대출일 = so_la.대출일.str.slice(4, 6)\n",
        "so_ec.청구기호 = so_ec.청구기호.str.slice(0, 3)\n",
        "so_ec.대출일 = so_ec.대출일.str.slice(4, 6)\n",
        "so_ss.청구기호 = so_ss.청구기호.str.slice(0, 3)\n",
        "so_ss.대출일 = so_ss.대출일.str.slice(4, 6)\n",
        "so_ls.청구기호 = so_ls.청구기호.str.slice(0, 3)\n",
        "so_se.청구기호 = so_se.청구기호.str.slice(0, 3)\n",
        "so_gb.청구기호 = so_gb.청구기호.str.slice(0, 3)\n",
        "so_art.청구기호 = so_art.청구기호.str.slice(0, 3)\n",
        "so_free.청구기호 = so_free.청구기호.str.slice(0, 3)"
      ],
      "execution_count": null,
      "outputs": [
        {
          "output_type": "stream",
          "text": [
            "/usr/local/lib/python3.6/dist-packages/pandas/core/generic.py:5208: SettingWithCopyWarning: \n",
            "A value is trying to be set on a copy of a slice from a DataFrame.\n",
            "Try using .loc[row_indexer,col_indexer] = value instead\n",
            "\n",
            "See the caveats in the documentation: http://pandas.pydata.org/pandas-docs/stable/user_guide/indexing.html#returning-a-view-versus-a-copy\n",
            "  self[name] = value\n"
          ],
          "name": "stderr"
        }
      ]
    },
    {
      "cell_type": "code",
      "metadata": {
        "id": "ThPwPGQwf5-R"
      },
      "source": [
        "dso_eg = so_eg.drop(['학과','서명'], axis=1)\n",
        "dso_edu = so_edu.drop(['학과','서명'], axis=1)\n",
        "dso_la = so_la.drop(['학과','서명'], axis=1)\n",
        "dso_ec = so_ec.drop(['학과','서명'], axis=1)\n",
        "dso_ss = so_ss.drop(['학과','서명'], axis=1)"
      ],
      "execution_count": null,
      "outputs": []
    },
    {
      "cell_type": "code",
      "metadata": {
        "id": "Ce20pfvsghks"
      },
      "source": [
        "dso_eg['청구기호']= dso_eg['청구기호'].astype('int')\n",
        "dso_eg['대출일'] = dso_eg['대출일'].astype('int')\n",
        "dso_edu['청구기호']= dso_edu['청구기호'].astype('int')\n",
        "dso_edu['대출일'] = dso_edu['대출일'].astype('int')\n",
        "dso_la['청구기호']= dso_la['청구기호'].astype('int')\n",
        "dso_la['대출일'] = dso_la['대출일'].astype('int')\n",
        "dso_ec['청구기호']= dso_ec['청구기호'].astype('int')\n",
        "dso_ec['대출일'] = dso_ec['대출일'].astype('int')\n",
        "dso_ss['청구기호']= dso_ss['청구기호'].astype('int')\n",
        "dso_ss['대출일'] = dso_ss['대출일'].astype('int')"
      ],
      "execution_count": null,
      "outputs": []
    },
    {
      "cell_type": "markdown",
      "metadata": {
        "id": "CzC6OvzBmKU0"
      },
      "source": [
        "### 대학별 도서 선호 장르"
      ]
    },
    {
      "cell_type": "markdown",
      "metadata": {
        "id": "6fyXKjtgEBDL"
      },
      "source": [
        "1)공과대\n",
        "  \n",
        "    1위 813 : 미국문학\n",
        "    2위 823 : 영국문학\n",
        "    3위 621 : 공학\n",
        "    4위 620 : 공학\n",
        "    5위 006 : 총류\n",
        "\n",
        "\n",
        "2)사범대\n",
        "  \n",
        "    1위 951 : 아시아사\n",
        "    2위 813 : 미국문학\n",
        "    3위 370 : 교육학\n",
        "    4위 810 : 미국문학\n",
        "    5위 823 : 영국문학\n",
        "\n",
        "\n",
        "3)문과대\n",
        "  \n",
        "    1위 813 : 미국문학\n",
        "    2위 823 : 영국문학\n",
        "    3위 895 : 기타 문학\n",
        "    4위 811 : 미국문학\n",
        "    5위 843 : 프랑스문학\n",
        "\n",
        "\n",
        "4)경상대학\n",
        "  \n",
        "    1위 658 : 경영 및 보조서비스\n",
        "    2위 813 : 미국문학\n",
        "    3위 823 : 영국문학\n",
        "    4위 895 : 기타 문학\n",
        "    5위 330 : 경제학\n",
        "\n",
        "\n",
        "5)법정대학\n",
        "  \n",
        "    1위 813 : 미국문학\n",
        "    2위 895 : 기타 문학\n",
        "    3위 345 : 법률학\n",
        "    4위 951 : 아시아사\n",
        "    5위 361 : 사회문제 및 복지\n",
        "\n",
        "\n",
        "6)생명나노대학\n",
        "  \n",
        "    1위 895 : 기타 문학\n",
        "    2위 813 : 미국문학\n",
        "    3위 574 : 생명과학, 생물학\n",
        "    4위 610 : 의학 및 보건\n",
        "    5위 820 : 영국문학\n",
        "\n",
        "\n",
        "7)사회적경제융합대학\n",
        "  \n",
        "    1위 813 : 미국문학\n",
        "    2위 361 : 사회문제 및 복지\n",
        "    3위 951 : 아시아사\n",
        "    4위 158 : 심리학\n",
        "    5위 362 : 사회문제 및 복지\n",
        "\n",
        "\n",
        "8)린튼글로벌비지니스 - 값이 없음 \n",
        "\n",
        "\n",
        "9)조형예술학부\n",
        "  \n",
        "    1위 745 : 그래픽아트, 장식예술\n",
        "    2위 741 : 그래픽아트, 장식예술\n",
        "    3위 813 : 미국문학\n",
        "    4위 709 : 예술 및 장식 미술\n",
        "    5위 759 : 회화\n",
        "\n",
        "\n",
        "10)자유전공학부\n",
        "  \n",
        "    1위 813 : 미국문학\n",
        "    2위 843 : 프랑스문학\n",
        "    3위 818 : 미국문학\n",
        "    4위 823 : 영국문학\n",
        "    5위 895 : 기타 문학\n"
      ]
    },
    {
      "cell_type": "code",
      "metadata": {
        "id": "7iqpbXnhPEIi"
      },
      "source": [
        "cso_eg = so_eg.청구기호.value_counts().head(15)\n",
        "cso_edu = so_edu.청구기호.value_counts().head(15)\n",
        "cso_la = so_la.청구기호.value_counts().head(15)\n",
        "cso_ec = so_ec.청구기호.value_counts().head(15)\n",
        "cso_ss = so_ss.청구기호.value_counts().head(15)\n",
        "cso_ls = so_ls.청구기호.value_counts().head(15)\n",
        "cso_se = so_se.청구기호.value_counts().head(15)\n",
        "cso_gb = so_gb.청구기호.value_counts().head(15)\n",
        "cso_art = so_art.청구기호.value_counts().head(15)\n",
        "cso_free = so_free.청구기호.value_counts().head(15)\n",
        "cso_eg = pd.DataFrame({'청구기호':cso_eg.index, 'count':cso_eg.values})\n",
        "cso_edu = pd.DataFrame({'청구기호':cso_edu.index, 'count':cso_edu.values})\n",
        "cso_la = pd.DataFrame({'청구기호':cso_la.index, 'count':cso_la.values})\n",
        "cso_ec = pd.DataFrame({'청구기호':cso_ec.index, 'count':cso_ec.values})\n",
        "cso_ss = pd.DataFrame({'청구기호':cso_ss.index, 'count':cso_ss.values})\n",
        "cso_ls = pd.DataFrame({'청구기호':cso_ls.index, 'count':cso_ls.values})\n",
        "cso_se = pd.DataFrame({'청구기호':cso_se.index, 'count':cso_se.values})\n",
        "cso_gb = pd.DataFrame({'청구기호':cso_gb.index, 'count':cso_gb.values})\n",
        "cso_art = pd.DataFrame({'청구기호':cso_art.index, 'count':cso_art.values})\n",
        "cso_free = pd.DataFrame({'청구기호':cso_free.index, 'count':cso_free.values})"
      ],
      "execution_count": null,
      "outputs": []
    },
    {
      "cell_type": "code",
      "metadata": {
        "id": "GfzNZQr9Actp"
      },
      "source": [
        "cso_eg"
      ],
      "execution_count": null,
      "outputs": []
    },
    {
      "cell_type": "code",
      "metadata": {
        "id": "jzgd5SF1Acoj"
      },
      "source": [
        "cso_edu"
      ],
      "execution_count": null,
      "outputs": []
    },
    {
      "cell_type": "code",
      "metadata": {
        "id": "TbrQA6_RAcko"
      },
      "source": [
        "cso_la"
      ],
      "execution_count": null,
      "outputs": []
    },
    {
      "cell_type": "code",
      "metadata": {
        "id": "UWTUU55cAcgU"
      },
      "source": [
        "cso_ec"
      ],
      "execution_count": null,
      "outputs": []
    },
    {
      "cell_type": "code",
      "metadata": {
        "id": "tP9KJM-WAccm"
      },
      "source": [
        "cso_ss"
      ],
      "execution_count": null,
      "outputs": []
    },
    {
      "cell_type": "code",
      "metadata": {
        "id": "W48LGeSkNNPg"
      },
      "source": [
        "cso_ls"
      ],
      "execution_count": null,
      "outputs": []
    },
    {
      "cell_type": "code",
      "metadata": {
        "id": "ZRg-jGIBNNIZ"
      },
      "source": [
        "cso_se"
      ],
      "execution_count": null,
      "outputs": []
    },
    {
      "cell_type": "code",
      "metadata": {
        "id": "XHfHu27_gwJb"
      },
      "source": [
        "cso_gb"
      ],
      "execution_count": null,
      "outputs": []
    },
    {
      "cell_type": "code",
      "metadata": {
        "id": "fPhTC6ydNM64"
      },
      "source": [
        "cso_art"
      ],
      "execution_count": null,
      "outputs": []
    },
    {
      "cell_type": "code",
      "metadata": {
        "id": "kWNEVbg7NMyZ"
      },
      "source": [
        "cso_free"
      ],
      "execution_count": null,
      "outputs": []
    },
    {
      "cell_type": "markdown",
      "metadata": {
        "id": "fPCK3lg8mTN5"
      },
      "source": [
        "### 대학별 청구기호와 대출월 관련 그래프"
      ]
    },
    {
      "cell_type": "code",
      "metadata": {
        "id": "RKEokfnLjtZQ"
      },
      "source": [
        "sns.set_style(\"whitegrid\")\n",
        "sns.barplot(x=\"청구기호\", y=\"대출일\", data=dso_eg)\n",
        "plt.suptitle(\"Engineering\", y=1.02)\n",
        "plt.show()"
      ],
      "execution_count": null,
      "outputs": []
    },
    {
      "cell_type": "code",
      "metadata": {
        "id": "0b6DusFGjtSg"
      },
      "source": [
        "sns.set_style(\"whitegrid\")\n",
        "sns.barplot(x=\"청구기호\", y=\"대출일\", data=dso_edu)\n",
        "plt.suptitle(\"Education\", y=1.02)\n",
        "plt.show()"
      ],
      "execution_count": null,
      "outputs": []
    },
    {
      "cell_type": "code",
      "metadata": {
        "id": "P0zoiBdvjtL0"
      },
      "source": [
        "sns.set_style(\"whitegrid\")\n",
        "sns.barplot(x=\"청구기호\", y=\"대출일\", data=dso_la)\n",
        "plt.suptitle(\"Liberal Arts\", y=1.02)\n",
        "plt.show()"
      ],
      "execution_count": null,
      "outputs": []
    },
    {
      "cell_type": "code",
      "metadata": {
        "id": "eg-QH-ccjtE1"
      },
      "source": [
        "sns.set_style(\"whitegrid\")\n",
        "sns.barplot(x=\"청구기호\", y=\"대출일\", data=dso_ec)\n",
        "plt.suptitle(\"Business\", y=1.02)\n",
        "plt.show()"
      ],
      "execution_count": null,
      "outputs": []
    },
    {
      "cell_type": "code",
      "metadata": {
        "id": "Qpb8j3sSjs6-"
      },
      "source": [
        "sns.set_style(\"whitegrid\")\n",
        "sns.barplot(x=\"청구기호\", y=\"대출일\", data=dso_ss)\n",
        "plt.suptitle(\"Law\", y=1.02)\n",
        "plt.show()"
      ],
      "execution_count": null,
      "outputs": []
    },
    {
      "cell_type": "code",
      "metadata": {
        "id": "lTVUc6B-eW5G"
      },
      "source": [
        "sns.set_style(\"whitegrid\")\n",
        "sns.jointplot(x=\"청구기호\", y=\"대출일\", data=dso_eg)\n",
        "plt.suptitle(\"Engineering\", y=1.02)\n",
        "plt.show()"
      ],
      "execution_count": null,
      "outputs": []
    },
    {
      "cell_type": "code",
      "metadata": {
        "id": "i8FAZzZOeW24"
      },
      "source": [
        "sns.set_style(\"whitegrid\")\n",
        "sns.jointplot(x=\"청구기호\", y=\"대출일\", data=dso_edu)\n",
        "plt.suptitle(\"Education\", y=1.02)\n",
        "plt.show()"
      ],
      "execution_count": null,
      "outputs": []
    },
    {
      "cell_type": "code",
      "metadata": {
        "id": "udumcCI1eWzg"
      },
      "source": [
        "sns.set_style(\"whitegrid\")\n",
        "sns.jointplot(x=\"청구기호\", y=\"대출일\", data=dso_la)\n",
        "plt.suptitle(\"Liberal Arts\", y=1.02)\n",
        "plt.show()"
      ],
      "execution_count": null,
      "outputs": []
    },
    {
      "cell_type": "code",
      "metadata": {
        "id": "xrgcReGVeWw5"
      },
      "source": [
        "sns.set_style(\"whitegrid\")\n",
        "sns.jointplot(x=\"청구기호\", y=\"대출일\", data=dso_ec)\n",
        "plt.suptitle(\"Business\", y=1.02)\n",
        "plt.show()"
      ],
      "execution_count": null,
      "outputs": []
    },
    {
      "cell_type": "code",
      "metadata": {
        "id": "adFNzViNeWuH"
      },
      "source": [
        "sns.set_style(\"whitegrid\")\n",
        "sns.jointplot(x=\"청구기호\", y=\"대출일\", data=dso_ss)\n",
        "plt.suptitle(\"Law\", y=1.02)\n",
        "plt.show()"
      ],
      "execution_count": null,
      "outputs": []
    },
    {
      "cell_type": "code",
      "metadata": {
        "id": "AUdY_zQLTda0"
      },
      "source": [
        "sns.set_style(\"whitegrid\")\n",
        "sns.jointplot(x=\"청구기호\", y=\"대출일\", data=so_eg, kind=\"kde\")\n",
        "plt.suptitle(\"Engineering\", y=1.02)\n",
        "plt.show()"
      ],
      "execution_count": null,
      "outputs": []
    },
    {
      "cell_type": "code",
      "metadata": {
        "id": "d3h2WVJpbqQ3"
      },
      "source": [
        "sns.set_style(\"whitegrid\")\n",
        "sns.jointplot(x=\"청구기호\", y=\"대출일\", data=so_edu, kind=\"kde\")\n",
        "plt.suptitle(\"Education\", y=1.02)\n",
        "plt.show()"
      ],
      "execution_count": null,
      "outputs": []
    },
    {
      "cell_type": "code",
      "metadata": {
        "id": "iS1JsNUab5K0"
      },
      "source": [
        "sns.set_style(\"whitegrid\")\n",
        "sns.jointplot(x=\"청구기호\", y=\"대출일\", data=so_la, kind=\"kde\")\n",
        "plt.suptitle(\"Liberal Arts\", y=1.02)\n",
        "plt.show()"
      ],
      "execution_count": null,
      "outputs": []
    },
    {
      "cell_type": "code",
      "metadata": {
        "id": "AIFgn5Lvb5Vm"
      },
      "source": [
        "sns.set_style(\"whitegrid\")\n",
        "sns.jointplot(x=\"청구기호\", y=\"대출일\", data=so_ec, kind=\"kde\")\n",
        "plt.suptitle(\"Business\", y=1.02)\n",
        "plt.show()"
      ],
      "execution_count": null,
      "outputs": []
    },
    {
      "cell_type": "code",
      "metadata": {
        "id": "Er7jxVcZb5gR"
      },
      "source": [
        "sns.set_style(\"whitegrid\")\n",
        "sns.jointplot(x=\"청구기호\", y=\"대출일\", data=so_ss, kind=\"kde\")\n",
        "plt.suptitle(\"Law\", y=1.02)\n",
        "plt.show()"
      ],
      "execution_count": null,
      "outputs": []
    },
    {
      "cell_type": "code",
      "metadata": {
        "id": "wLWBP-0ib5fN"
      },
      "source": [
        "eg = cso_eg.plot(kind='bar', x='청구기호', y='count', title='Engineering', color=['cornflowerblue', 'lightskyblue','paleturquoise', 'springgreen',  'lightgreen', 'greenyellow','yellow','gold', 'orange', 'coral'], figsize=(12, 4), fontsize=12)\n",
        "#eg.set_xlabel('서명', fontsize=12)          # x축 정보 표시\n",
        "#eg.set_ylabel('LB_sum', fontsize=12)     # y축 정보 표시\n",
        "#eg.legend(['LB_sum'], fontsize=12)    # 범례 지정"
      ],
      "execution_count": null,
      "outputs": []
    },
    {
      "cell_type": "code",
      "metadata": {
        "id": "tEJ9mL9sdMyA"
      },
      "source": [
        "edu = cso_edu.plot(kind='bar', x='청구기호', y='count', title='Education', color=['cornflowerblue', 'lightskyblue','paleturquoise', 'springgreen',  'lightgreen', 'greenyellow','yellow','gold', 'orange', 'coral'], figsize=(12, 4), fontsize=12)"
      ],
      "execution_count": null,
      "outputs": []
    },
    {
      "cell_type": "code",
      "metadata": {
        "id": "pF5GWsWndgmB"
      },
      "source": [
        "la = cso_la.plot(kind='bar', x='청구기호', y='count', title='Liberal Arts', color=['cornflowerblue', 'lightskyblue','paleturquoise', 'springgreen',  'lightgreen', 'greenyellow','yellow','gold', 'orange', 'coral'], figsize=(12, 4), fontsize=12)"
      ],
      "execution_count": null,
      "outputs": []
    },
    {
      "cell_type": "code",
      "metadata": {
        "id": "qZe6FDOFdoA_"
      },
      "source": [
        "ec = cso_ec.plot(kind='bar', x='청구기호', y='count', title='Business', color=['cornflowerblue', 'lightskyblue','paleturquoise', 'springgreen',  'lightgreen', 'greenyellow','yellow','gold', 'orange', 'coral'], figsize=(12, 4), fontsize=12)"
      ],
      "execution_count": null,
      "outputs": []
    },
    {
      "cell_type": "code",
      "metadata": {
        "id": "RZA_PJxYdu5m"
      },
      "source": [
        "ss = cso_ss.plot(kind='bar', x='청구기호', y='count', title='Law', color=['cornflowerblue', 'lightskyblue','paleturquoise', 'springgreen',  'lightgreen', 'greenyellow','yellow','gold', 'orange', 'coral'], figsize=(12, 4), fontsize=12)"
      ],
      "execution_count": null,
      "outputs": []
    },
    {
      "cell_type": "code",
      "metadata": {
        "id": "Efu07IYTdzVG"
      },
      "source": [
        ""
      ],
      "execution_count": null,
      "outputs": []
    }
  ]
}